{
 "metadata": {
  "language_info": {
   "codemirror_mode": {
    "name": "ipython",
    "version": 3
   },
   "file_extension": ".py",
   "mimetype": "text/x-python",
   "name": "python",
   "nbconvert_exporter": "python",
   "pygments_lexer": "ipython3",
   "version": "3.8.2-final"
  },
  "orig_nbformat": 2,
  "kernelspec": {
   "name": "my_root_env",
   "display_name": "my_root_env"
  }
 },
 "nbformat": 4,
 "nbformat_minor": 2,
 "cells": [
  {
   "cell_type": "code",
   "execution_count": 1,
   "metadata": {},
   "outputs": [
    {
     "output_type": "stream",
     "name": "stdout",
     "text": [
      "Welcome to JupyROOT 6.20/04\n"
     ]
    }
   ],
   "source": [
    "import ROOT as rt\n",
    "from pprint import pprint\n",
    "import numpy as np"
   ]
  },
  {
   "cell_type": "code",
   "execution_count": 98,
   "metadata": {},
   "outputs": [],
   "source": [
    "def write_tree_info_to_txt(infile, outtxt, keep_2P2F=True, keep_3P1F=True):\n",
    "    \"\"\"\n",
    "    Write info from TFile `infile` from TTree 'passedEvents' to `outtxt`.\n",
    "\n",
    "    Info which gets written:\n",
    "    Run : LumiSect : Event\n",
    "    \"\"\"\n",
    "    tfile = rt.TFile.Open(infile)\n",
    "    tree = tfile.Get(\"passedEvents\")\n",
    "\n",
    "    with open(outtxt, \"w\") as f:\n",
    "        f.write(\"# Run : LumiSect : Event\\n\")\n",
    "        for evt in tree:\n",
    "            keep_evt = True if (keep_2P2F and evt.is2P2F) or (keep_3P1F and evt.is3P1F) else False\n",
    "            if keep_evt:\n",
    "                f.write(f\"{evt.Run} : {evt.LumiSect} : {evt.Event}\\n\")\n",
    "\n",
    "def get_list_of_lines(evt_ls_txt):\n",
    "    \"\"\"\n",
    "    Return a list of lines starting with a digit and\n",
    "    with a trailing newline ('\\\\n') stripped.\n",
    "    \"\"\"\n",
    "    with open(evt_ls_txt, \"r\") as f:\n",
    "        return [line.rstrip('\\n') for line in f.readlines() if line[0].isdigit()]\n",
    "\n",
    "def get_list_of_tuples(evt_ls):\n",
    "    \"\"\"\n",
    "    Return a list of 3-tuples from a list of strings `evt_ls`:\n",
    "\n",
    "    [\n",
    "        (Run1, LumiSect1, Event1),\n",
    "        (Run2, LumiSect2, Event2),\n",
    "        ...\n",
    "    ]\n",
    "    \"\"\"\n",
    "    new_evt_ls = []\n",
    "    for line in evt_ls:\n",
    "        tup = tuple([int(num) for num in line.split(\":\")])\n",
    "        new_evt_ls.append(tup)\n",
    "    return new_evt_ls\n",
    "\n",
    "class FileComparer:\n",
    "\n",
    "    def __init__(self, txtpath_jake, txtpath_elis, control_reg=\"\"):\n",
    "        \"\"\"\n",
    "        Feed in two txt files to be compared.\n",
    "\n",
    "        Each txt file is converted to a list of 3-tuples and stored.\n",
    "        \"\"\"\n",
    "        self.cr = control_reg\n",
    "        self.check_cr(txtpath_jake, txtpath_elis)\n",
    "        if control_reg in \"\":\n",
    "            self.cr = \"all\"\n",
    "\n",
    "        self.ls_of_tup_jake = get_list_of_tuples(get_list_of_lines(txtpath_jake))\n",
    "        self.ls_of_tup_elis = get_list_of_tuples(get_list_of_lines(txtpath_elis))\n",
    "\n",
    "    def check_cr(self, path1, path2):\n",
    "        \"\"\"Make sure that the control region is the one requested.\"\"\"\n",
    "        cr_low = self.cr.lower()\n",
    "        assert cr_low in (\"2p2f\", \"3p1f\", \"\")\n",
    "        msg = f\"The `control_reg` ({self.cr}) not found in names of txt files.\"\n",
    "        assert all(cr_low in f.lower() for f in (path1, path2)), msg\n",
    "\n",
    "    def compare_files(self):\n",
    "        \"\"\"\n",
    "        \"\"\"\n",
    "        self.set_common_to_both = set(self.ls_of_tup_elis) & set(self.ls_of_tup_jake)\n",
    "        # self.set_common_to_both = set(self.ls_of_tup_elis).intersection(set(self.ls_of_tup_jake))\n",
    "        self.set_unique_to_elis = set(self.ls_of_tup_elis) - set(self.ls_of_tup_jake)\n",
    "        self.set_unique_to_jake = set(self.ls_of_tup_jake) - set(self.ls_of_tup_elis)\n",
    "\n",
    "    def print_results(self, whose=\"all\", show_n_evts=25):\n",
    "        \"\"\"Print info describing differences between two files.\"\"\"\n",
    "        print(f\"Comparing {self.cr.upper()}:\")\n",
    "        print(f\"{'n_evts total Elisa:':<25}{len(self.ls_of_tup_elis)}\")\n",
    "        print(f\"{'n_evts total Jake:':<25}{len(self.ls_of_tup_jake)}\")\n",
    "        print(f\"{'n_evts in common:':<25}{len(self.set_common_to_both)}\")\n",
    "        print(f\"{'n_evts unique to Elisa:':<25}{len(self.set_unique_to_elis)}\")\n",
    "        print(f\"{'n_evts unique to Jake:':<25}{len(self.set_unique_to_jake)}\")\n",
    "        header = \"#-- Run -- LumiSect -- Event --#\"\n",
    "        if show_n_evts == -1:\n",
    "            show_n_evts = None\n",
    "        if whose in (\"jake\", \"all\"):\n",
    "            print(f\"  Jake's unique events:\")\n",
    "            print(header)\n",
    "            pprint(list(self.set_unique_to_jake)[:show_n_evts])\n",
    "            print()\n",
    "        if whose in (\"elisa\", \"all\"):\n",
    "            print(f\"  Elisa's unique events:\")\n",
    "            print(header)\n",
    "            pprint(list(self.set_unique_to_elis)[:show_n_evts])\n",
    "            print()\n",
    "        "
   ]
  },
  {
   "cell_type": "code",
   "execution_count": 100,
   "metadata": {},
   "outputs": [],
   "source": [
    "infile_jake_tree = \"/blue/avery/rosedj1/ZplusXpython/data/ZLL_CR_FRapplied/Data_2018_NoDuplicates_RunEventLumi.root\"\n",
    "\n",
    "infile_elisa       = \"/blue/avery/rosedj1/ZplusXpython/data/elisa/CRLLos_listOfEvents.txt\"\n",
    "infile_elisa_2p2f  = \"/blue/avery/rosedj1/ZplusXpython/data/elisa/CRLLos_2P2F_listOfEvents.txt\"\n",
    "infile_elisa_3p1f  = \"/blue/avery/rosedj1/ZplusXpython/data/elisa/CRLLos_3P1F_listOfEvents.txt\"\n",
    "\n",
    "infile_jake      = \"/blue/avery/rosedj1/ZplusXpython/data/elisa/CRLLos_listOfEvents_jake.txt\"\n",
    "infile_jake_2p2f = \"/blue/avery/rosedj1/ZplusXpython/data/elisa/CRLLos_listOfEvents_jake_2P2F.txt\"\n",
    "infile_jake_3p1f = \"/blue/avery/rosedj1/ZplusXpython/data/elisa/CRLLos_listOfEvents_jake_3P1F.txt\"\n",
    "# write_tree_info_to_txt(tree, infile_jake)"
   ]
  },
  {
   "cell_type": "markdown",
   "metadata": {},
   "source": [
    "## Make txt files of events."
   ]
  },
  {
   "cell_type": "code",
   "execution_count": 22,
   "metadata": {},
   "outputs": [],
   "source": [
    "#--- 2P2F ---#\n",
    "# write_tree_info_to_txt(infile_jake_tree, infile_jake_2p2f, keep_2P2F=True, keep_3P1F=False)\n",
    "\n",
    "#--- 3P1F ---#\n",
    "# write_tree_info_to_txt(infile_jake_tree, infile_jake_3p1f, keep_2P2F=False, keep_3P1F=True)"
   ]
  },
  {
   "cell_type": "markdown",
   "metadata": {},
   "source": [
    "## Compare files."
   ]
  },
  {
   "cell_type": "code",
   "execution_count": 103,
   "metadata": {
    "tags": []
   },
   "outputs": [
    {
     "output_type": "stream",
     "name": "stdout",
     "text": [
      "Comparing 3P1F:\n",
      "n_evts total Elisa:      4806\n",
      "n_evts total Jake:       4150\n",
      "n_evts in common:        4035\n",
      "n_evts unique to Elisa:  770\n",
      "n_evts unique to Jake:   26\n",
      "  Jake's unique events:\n",
      "#-- Run -- LumiSect -- Event --#\n",
      "[(317182, 1329, 1905692245),\n",
      " (320038, 548, 845311759),\n",
      " (317640, 452, 638092741),\n",
      " (319524, 151, 172084101),\n",
      " (319524, 143, 160539721),\n",
      " (317591, 285, 372742783),\n",
      " (318874, 125, 203908118),\n",
      " (317661, 517, 748042526),\n",
      " (319639, 842, 1246930568),\n",
      " (318876, 34, 51539109)]\n",
      "\n",
      "Comparing 2P2F:\n",
      "n_evts total Elisa:      46067\n",
      "n_evts total Jake:       43608\n",
      "n_evts in common:        43014\n",
      "n_evts unique to Elisa:  3052\n",
      "n_evts unique to Jake:   505\n",
      "  Jake's unique events:\n",
      "#-- Run -- LumiSect -- Event --#\n",
      "[(317696, 592, 881210461),\n",
      " (320065, 665, 1052355714),\n",
      " (317392, 448, 600937506),\n",
      " (317640, 771, 1135540995),\n",
      " (319579, 2984, 4520126795),\n",
      " (317320, 1233, 1832145181),\n",
      " (319756, 761, 1239333999),\n",
      " (317649, 181, 267164819),\n",
      " (319756, 804, 1309932845),\n",
      " (319656, 58, 5229496)]\n",
      "\n",
      "Comparing ALL:\n",
      "n_evts total Elisa:      50873\n",
      "n_evts total Jake:       47758\n",
      "n_evts in common:        47057\n",
      "n_evts unique to Elisa:  3696\n",
      "n_evts unique to Jake:   523\n",
      "  Jake's unique events:\n",
      "#-- Run -- LumiSect -- Event --#\n",
      "[(317696, 592, 881210461),\n",
      " (319524, 143, 160539721),\n",
      " (320065, 665, 1052355714),\n",
      " (317392, 448, 600937506),\n",
      " (317640, 771, 1135540995),\n",
      " (319579, 2984, 4520126795),\n",
      " (317320, 1233, 1832145181),\n",
      " (319756, 761, 1239333999),\n",
      " (317649, 181, 267164819),\n",
      " (319756, 804, 1309932845)]\n",
      "\n"
     ]
    }
   ],
   "source": [
    "fc_jakevselisa_3p1f = FileComparer(infile_jake_3p1f, infile_elisa_3p1f, control_reg=\"3p1f\")\n",
    "fc_jakevselisa_3p1f.compare_files()\n",
    "fc_jakevselisa_3p1f.print_results(whose=\"jake\", show_n_evts=10)\n",
    "\n",
    "fc_jakevselisa_2p2f = FileComparer(infile_jake_2p2f, infile_elisa_2p2f, control_reg=\"2p2f\")\n",
    "fc_jakevselisa_2p2f.compare_files()\n",
    "fc_jakevselisa_2p2f.print_results(whose=\"jake\", show_n_evts=10)\n",
    "\n",
    "fc_jakevselisa_all = FileComparer(infile_jake, infile_elisa, control_reg=\"\")\n",
    "fc_jakevselisa_all.compare_files()\n",
    "fc_jakevselisa_all.print_results(whose=\"jake\", show_n_evts=10)"
   ]
  },
  {
   "cell_type": "code",
   "execution_count": 109,
   "metadata": {},
   "outputs": [
    {
     "output_type": "stream",
     "name": "stdout",
     "text": [
      "JAKE\nall\n47758\n47580\n2P2F\n43608\n43519\n3P1F\n4150\n4061\n#------------------------------#\nELISA\nall\n50873\n50753\n2P2F\n46067\n46066\n3P1F\n4806\n4805\n"
     ]
    }
   ],
   "source": [
    "print(\"JAKE\")\n",
    "print(\"all\")\n",
    "print(len(fc_jakevselisa_all.ls_of_tup_jake))\n",
    "print(len(set(fc_jakevselisa_all.ls_of_tup_jake)))\n",
    "\n",
    "print(\"2P2F\")\n",
    "print(len(fc_jakevselisa_2p2f.ls_of_tup_jake))\n",
    "print(len(set(fc_jakevselisa_2p2f.ls_of_tup_jake)))\n",
    "\n",
    "print(\"3P1F\")\n",
    "print(len(fc_jakevselisa_3p1f.ls_of_tup_jake))\n",
    "print(len(set(fc_jakevselisa_3p1f.ls_of_tup_jake)))\n",
    "print(\"#\" + \"-\"*30 + \"#\")\n",
    "\n",
    "print(\"ELISA\")\n",
    "print(\"all\")\n",
    "print(len(fc_jakevselisa_all.ls_of_tup_elis))\n",
    "print(len(set(fc_jakevselisa_all.ls_of_tup_elis)))\n",
    "\n",
    "print(\"2P2F\")\n",
    "print(len(fc_jakevselisa_2p2f.ls_of_tup_elis))\n",
    "print(len(set(fc_jakevselisa_2p2f.ls_of_tup_elis)))\n",
    "\n",
    "print(\"3P1F\")\n",
    "print(len(fc_jakevselisa_3p1f.ls_of_tup_elis))\n",
    "print(len(set(fc_jakevselisa_3p1f.ls_of_tup_elis)))"
   ]
  },
  {
   "cell_type": "code",
   "execution_count": null,
   "metadata": {},
   "outputs": [],
   "source": []
  }
 ]
}