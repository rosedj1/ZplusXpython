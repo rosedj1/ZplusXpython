{
 "metadata": {
  "language_info": {
   "codemirror_mode": {
    "name": "ipython",
    "version": 3
   },
   "file_extension": ".py",
   "mimetype": "text/x-python",
   "name": "python",
   "nbconvert_exporter": "python",
   "pygments_lexer": "ipython3",
   "version": "3.8.2-final"
  },
  "orig_nbformat": 2,
  "kernelspec": {
   "name": "my_root_env",
   "display_name": "my_root_env"
  }
 },
 "nbformat": 4,
 "nbformat_minor": 2,
 "cells": [
  {
   "cell_type": "code",
   "execution_count": 18,
   "metadata": {},
   "outputs": [],
   "source": [
    "import ROOT as rt\n",
    "from pprint import pprint\n",
    "import numpy as np\n",
    "from collections import Counter"
   ]
  },
  {
   "cell_type": "code",
   "execution_count": 19,
   "metadata": {},
   "outputs": [],
   "source": [
    "def write_tree_info_to_txt(infile, outtxt, keep_2P2F=True, keep_3P1F=True):\n",
    "    \"\"\"\n",
    "    Write info from TFile `infile` from TTree 'passedEvents' to `outtxt`.\n",
    "\n",
    "    Info which gets written:\n",
    "    Run : LumiSect : Event\n",
    "    \"\"\"\n",
    "    tfile = rt.TFile.Open(infile)\n",
    "    tree = tfile.Get(\"passedEvents\")\n",
    "\n",
    "    with open(outtxt, \"w\") as f:\n",
    "        f.write(\"# Run : LumiSect : Event\\n\")\n",
    "        for evt in tree:\n",
    "            keep_evt = True if (keep_2P2F and evt.is2P2F) or (keep_3P1F and evt.is3P1F) else False\n",
    "            if keep_evt:\n",
    "                f.write(f\"{evt.Run} : {evt.LumiSect} : {evt.Event}\\n\")\n",
    "\n",
    "def get_list_of_lines(evt_ls_txt):\n",
    "    \"\"\"\n",
    "    Return a list of the lines from `evt_ls_txt`.\n",
    "    The lines must start with a digit.\n",
    "    Trailing newlines ('\\\\n') are stripped.\n",
    "    \"\"\"\n",
    "    with open(evt_ls_txt, \"r\") as f:\n",
    "        return [line.rstrip('\\n') for line in f.readlines() if line[0].isdigit()]\n",
    "\n",
    "def get_list_of_tuples(evt_ls):\n",
    "    \"\"\"\n",
    "    Return a list of 3-tuples from a list of strings `evt_ls`:\n",
    "\n",
    "    [\n",
    "        (Run1, LumiSect1, Event1),\n",
    "        (Run2, LumiSect2, Event2),\n",
    "        ...\n",
    "    ]\n",
    "    \"\"\"\n",
    "    new_evt_ls = []\n",
    "    for line in evt_ls:\n",
    "        tup = tuple([int(num) for num in line.split(\":\")])\n",
    "        new_evt_ls.append(tup)\n",
    "    return new_evt_ls"
   ]
  },
  {
   "cell_type": "code",
   "execution_count": 23,
   "metadata": {},
   "outputs": [],
   "source": [
    "class FileComparer:\n",
    "\n",
    "    def __init__(self, txt_file1, txt_file2, control_reg=\"\"):\n",
    "        \"\"\"\n",
    "        Feed in two txt files to be compared.\n",
    "\n",
    "        NOTE:\n",
    "        - Each txt file is converted to a list of 3-tuples and stored.\n",
    "        - Only lines which begin with a digit are read and stored.\n",
    "        \"\"\"\n",
    "        self.file1 = txt_file1\n",
    "        self.file2 = txt_file2\n",
    "        self.cr = control_reg\n",
    "\n",
    "        self.check_cr(txt_file1, txt_file2)\n",
    "        if control_reg in \"\":\n",
    "            self.cr = \"all\"\n",
    "        self.ls_of_tup_file1_nodup = None\n",
    "        self.ls_of_tup_file2_nodup = None\n",
    "\n",
    "        self.ls_of_tup_file1 = get_list_of_tuples(get_list_of_lines(txt_file1))\n",
    "        if self.check_for_dups(txt_file1, self.ls_of_tup_file1):\n",
    "            # Remove duplicates by turning to a set and then back to list.\n",
    "            self.ls_of_tup_file1_nodup = list(set(self.ls_of_tup_file1))\n",
    "\n",
    "        self.ls_of_tup_file2 = get_list_of_tuples(get_list_of_lines(txt_file2))\n",
    "        if self.check_for_dups(txt_file2, self.ls_of_tup_file2):\n",
    "            self.ls_of_tup_file2_nodup = list(set(self.ls_of_tup_file2))\n",
    "\n",
    "        self.compare_files()\n",
    "\n",
    "    def check_for_dups(self, txt_file, ls_of_tup):\n",
    "        \"\"\"Return True and print info if duplicates within a file are found.\"\"\"\n",
    "        len_ls = len(ls_of_tup)\n",
    "        len_set = len(set(ls_of_tup))\n",
    "        if len_ls != len_set:\n",
    "            print(f\"[WARNING] Duplicates ({len_ls-len_set}) found in file: {txt_file}\")\n",
    "            print(f\"[WARNING] len(ls)={len_ls} != len(set)={len_set}\")\n",
    "            return True\n",
    "        return False\n",
    "\n",
    "    def check_cr(self, path1, path2):\n",
    "        \"\"\"Make sure that the control region is the one requested.\"\"\"\n",
    "        cr_low = self.cr.lower()\n",
    "        assert cr_low in (\"2p2f\", \"3p1f\", \"\")\n",
    "        # Make sure that the two files have the requested CR.\n",
    "        msg = f\"The `control_reg` ({self.cr}) not found in names of txt files.\"\n",
    "        assert all(cr_low in f.lower() for f in (path1, path2)), msg\n",
    "\n",
    "    def compare_files(self):\n",
    "        \"\"\"\n",
    "        \"\"\"\n",
    "        self.set_common_to_both = set(self.ls_of_tup_file1_nodup) & set(self.ls_of_tup_file2_nodup)\n",
    "        self.set_unique_to_file1 = set(self.ls_of_tup_file1_nodup) - set(self.ls_of_tup_file2_nodup)\n",
    "        self.set_unique_to_file2 = set(self.ls_of_tup_file2_nodup) - set(self.ls_of_tup_file1_nodup)\n",
    "\n",
    "    def print_results(self, whose=\"all\", show_n_evts=25, save_to_file=None):\n",
    "        \"\"\"Print info describing differences between two files.\n",
    "        \n",
    "        Parameters\n",
    "        ----------\n",
    "        whose : str\n",
    "            \"file1\", \"file2\", \"all\"\n",
    "        \"\"\"\n",
    "        print(f\"Comparing {self.cr.upper()}:\")\n",
    "        print(f\"file1: {self.file1}\")\n",
    "        print(f\"file2: {self.file2}\")\n",
    "\n",
    "        print(f\"{'n_evts total file1 (no dup): ':<25}{len(self.ls_of_tup_file1_nodup)}\")\n",
    "        print(f\"{'n_evts total file2 (no dup): ':<25}{len(self.ls_of_tup_file2_nodup)}\")\n",
    "        print(f\"{'n_evts in common: ':<25}{len(self.set_common_to_both)}\")\n",
    "        print(f\"{'n_evts unique to file1: ':<25}{len(self.set_unique_to_file1)}\")\n",
    "        print(f\"{'n_evts unique to file2: ':<25}{len(self.set_unique_to_file2)}\")\n",
    "\n",
    "        header = \"#-- Run -- LumiSect -- Event --#\"\n",
    "        if show_n_evts == -1:\n",
    "            show_n_evts = None\n",
    "        if whose in (\"file1\", \"all\"):\n",
    "            print(f\"  file1's unique events:\")\n",
    "            print(header)\n",
    "            pprint(list(self.set_unique_to_file1)[:show_n_evts])\n",
    "            print()\n",
    "        if whose in (\"file2\", \"all\"):\n",
    "            print(f\"  file2's unique events:\")\n",
    "            print(header)\n",
    "            pprint(list(self.set_unique_to_file2)[:show_n_evts])\n",
    "            print()\n",
    "\n",
    "    def save_events_to_txt(self, kind, outtxt, no_dup=True):\n",
    "        \"\"\"\n",
    "        Write the events to `outtxt` in the format:\n",
    "\n",
    "        Run : LumiSect : Event\n",
    "\n",
    "        Parameters\n",
    "        ----------\n",
    "        kind : str\n",
    "            Choose which events to write to `outtxt`.\n",
    "            \"file1\", \"file2\", \"common\", \"file1_unique\", \"file2_unique\"\n",
    "        \"\"\"\n",
    "        assert kind in (\"file1\", \"file2\", \"common\", \"file1_unique\", \"file2_unique\")\n",
    "\n",
    "        if kind in \"file1\":\n",
    "            iter_ls_of_tup = self.ls_of_tup_file1_nodup if no_dup else self.ls_of_tup_file1\n",
    "        elif kind in \"file2\":\n",
    "            iter_ls_of_tup = self.ls_of_tup_file2_nodup if no_dup else self.ls_of_tup_file2\n",
    "        elif kind in \"common\":\n",
    "            iter_ls_of_tup = self.set_common_to_both\n",
    "        elif kind in \"file1_unique\":\n",
    "            iter_ls_of_tup = self.set_unique_to_file1\n",
    "        elif kind in \"file2_unique\":\n",
    "            iter_ls_of_tup = self.set_unique_to_file2\n",
    "\n",
    "        with open(outtxt, \"w\") as f:\n",
    "            f.write(\"# Run : LumiSect : Event\\n\")\n",
    "            for tup in iter_ls_of_tup:\n",
    "                f.write(f\"{tup[0]} : {tup[1]} : {tup[2]}\\n\")\n",
    "            print(f\"Wrote '{self.cr} {kind}' events to file:\\n{outtxt}\")"
   ]
  },
  {
   "cell_type": "code",
   "execution_count": 28,
   "metadata": {},
   "outputs": [],
   "source": [
    "infile_jake_tree = \"/blue/avery/rosedj1/ZplusXpython/data/ZLL_CR_FRapplied/Data_2018_NoDuplicates_RunEventLumi.root\"\n",
    "\n",
    "infile_elisa       = \"/blue/avery/rosedj1/ZplusXpython/data/elisa/CRLLos_listOfEvents.txt\"\n",
    "infile_elisa_2p2f  = \"/blue/avery/rosedj1/ZplusXpython/data/elisa/CRLLos_2P2F_listOfEvents.txt\"\n",
    "infile_elisa_3p1f  = \"/blue/avery/rosedj1/ZplusXpython/data/elisa/CRLLos_3P1F_listOfEvents.txt\"\n",
    "\n",
    "infile_jake      = \"/blue/avery/rosedj1/ZplusXpython/data/elisa/CRLLos_listOfEvents_jake.txt\"\n",
    "infile_jake_2p2f = \"/blue/avery/rosedj1/ZplusXpython/data/elisa/CRLLos_listOfEvents_jake_2P2F.txt\"\n",
    "infile_jake_3p1f = \"/blue/avery/rosedj1/ZplusXpython/data/elisa/CRLLos_listOfEvents_jake_3P1F.txt\"\n",
    "\n",
    "outfile_elisa_2p2f_unique  = \"/blue/avery/rosedj1/ZplusXpython/data/elisa/CRLLos_2P2F_listOfEvents_unique.txt\"\n",
    "outfile_elisa_3p1f_unique  = \"/blue/avery/rosedj1/ZplusXpython/data/elisa/CRLLos_3P1F_listOfEvents_unique.txt\"\n",
    "outfile_jake_2p2f_unique = \"/blue/avery/rosedj1/ZplusXpython/data/elisa/CRLLos_listOfEvents_jake_2P2F_unique.txt\"\n",
    "outfile_jake_3p1f_unique = \"/blue/avery/rosedj1/ZplusXpython/data/elisa/CRLLos_listOfEvents_jake_3P1F_unique.txt\"\n",
    "\n",
    "outfile_2p2f_common = \"/blue/avery/rosedj1/ZplusXpython/data/elisa/CRLLos_listOfEvents_2P2F_common.txt\"\n",
    "outfile_3p1f_common = \"/blue/avery/rosedj1/ZplusXpython/data/elisa/CRLLos_listOfEvents_3P1F_common.txt\"\n",
    "# write_tree_info_to_txt(tree, infile_jake)"
   ]
  },
  {
   "cell_type": "markdown",
   "metadata": {},
   "source": [
    "## Make txt files of events."
   ]
  },
  {
   "cell_type": "code",
   "execution_count": 22,
   "metadata": {},
   "outputs": [],
   "source": [
    "# write_tree_info_to_txt(infile_jake_tree, infile_jake_2p2f, keep_2P2F=True, keep_3P1F=False)\n",
    "# write_tree_info_to_txt(infile_jake_tree, infile_jake_3p1f, keep_2P2F=False, keep_3P1F=True)"
   ]
  },
  {
   "cell_type": "markdown",
   "metadata": {},
   "source": [
    "## Compare files."
   ]
  },
  {
   "cell_type": "code",
   "execution_count": 29,
   "metadata": {
    "tags": []
   },
   "outputs": [
    {
     "output_type": "stream",
     "name": "stdout",
     "text": [
      "Wrote 'file1_unique' events to file:\n/blue/avery/rosedj1/ZplusXpython/data/elisa/CRLLos_listOfEvents_jake_3P1F_unique.txt\nWrote 'file2_unique' events to file:\n/blue/avery/rosedj1/ZplusXpython/data/elisa/CRLLos_3P1F_listOfEvents_unique.txt\nWrote 'common' events to file:\n/blue/avery/rosedj1/ZplusXpython/data/elisa/CRLLos_listOfEvents_3P1F_common.txt\nWrote 'file1_unique' events to file:\n/blue/avery/rosedj1/ZplusXpython/data/elisa/CRLLos_listOfEvents_jake_2P2F_unique.txt\nWrote 'file2_unique' events to file:\n/blue/avery/rosedj1/ZplusXpython/data/elisa/CRLLos_2P2F_listOfEvents_unique.txt\nWrote 'common' events to file:\n/blue/avery/rosedj1/ZplusXpython/data/elisa/CRLLos_listOfEvents_2P2F_common.txt\n"
     ]
    }
   ],
   "source": [
    "# fc_jakevselisa_3p1f = FileComparer(infile_jake_3p1f, infile_elisa_3p1f, control_reg=\"3p1f\")\n",
    "# fc_jakevselisa_2p2f = FileComparer(infile_jake_2p2f, infile_elisa_2p2f, control_reg=\"2p2f\")\n",
    "# fc_jakevselisa_all = FileComparer(infile_jake, infile_elisa, control_reg=\"\")\n",
    "\n",
    "# fc_jakevselisa_3p1f.print_results(whose=\"file1\", show_n_evts=-1)\n",
    "# fc_jakevselisa_2p2f.print_results(whose=\"file2\", show_n_evts=10)\n",
    "# fc_jakevselisa_all.print_results(whose=\"all\", show_n_evts=10)\n",
    "\n",
    "fc_jakevselisa_3p1f.save_events_to_txt(kind=\"file1_unique\", outtxt=outfile_jake_3p1f_unique, no_dup=True)\n",
    "fc_jakevselisa_3p1f.save_events_to_txt(kind=\"file2_unique\", outtxt=outfile_elisa_3p1f_unique, no_dup=True)\n",
    "fc_jakevselisa_3p1f.save_events_to_txt(kind=\"common\", outtxt=outfile_3p1f_common, no_dup=True)\n",
    "\n",
    "fc_jakevselisa_2p2f.save_events_to_txt(kind=\"file1_unique\", outtxt=outfile_jake_2p2f_unique, no_dup=True)\n",
    "fc_jakevselisa_2p2f.save_events_to_txt(kind=\"file2_unique\", outtxt=outfile_elisa_2p2f_unique, no_dup=True)\n",
    "fc_jakevselisa_2p2f.save_events_to_txt(kind=\"common\", outtxt=outfile_2p2f_common, no_dup=True)"
   ]
  },
  {
   "cell_type": "code",
   "execution_count": 165,
   "metadata": {
    "tags": []
   },
   "outputs": [
    {
     "output_type": "stream",
     "name": "stdout",
     "text": [
      "[(316059, 264, 291781001),\n (315420, 224, 173693574),\n (315705, 476, 320288284),\n (315770, 329, 459813961),\n (316240, 278, 390335437),\n (316059, 2, 1543686),\n (316590, 117, 160436503),\n (316590, 156, 219203038),\n (316569, 20, 13446010),\n (316111, 7, 6163919),\n (316758, 626, 866786910),\n (315506, 77, 91921103),\n (316718, 173, 266503769),\n (315713, 38, 24367865),\n (316239, 367, 465753806),\n (315973, 600, 707371743),\n (316590, 279, 393597622),\n (316271, 106, 117834495),\n (316380, 66, 46970628),\n (316457, 389, 442516703),\n (316666, 839, 1192941203),\n (316995, 120, 161611689),\n (316719, 41, 57584524),\n (316876, 270, 382427314),\n (317292, 306, 446000825),\n (317320, 192, 262193931),\n (317320, 261, 349193238),\n (317435, 591, 845742889),\n (317527, 966, 1373701503),\n (319756, 569, 924886538),\n (319449, 613, 889108115),\n (319503, 156, 240050059),\n (319524, 799, 1172395462),\n (319579, 1329, 1989114863),\n (319910, 700, 1254838029),\n (319910, 973, 1765786641),\n (320024, 116, 191728372),\n (320040, 613, 960843002),\n (319347, 401, 523919058),\n (319524, 170, 199281329),\n (319659, 72, 108156574),\n (319991, 314, 446705407),\n (320040, 366, 562453570),\n (320712, 126, 146759691),\n (321312, 3, 747564),\n (320822, 184, 313501062),\n (320838, 125, 143978685),\n (320920, 106, 140159547),\n (321774, 23, 39322957),\n (320917, 135, 218114178),\n (320917, 1693, 2678309786),\n (322332, 561, 987024723),\n (322179, 1442, 2462498113),\n (324791, 643, 1163490797),\n (321149, 390, 566429365),\n (321149, 537, 801918322),\n (321149, 1070, 1601737369),\n (322617, 293, 503592084),\n (321305, 302, 480967690),\n (321305, 339, 536640497),\n (321305, 939, 1513690196),\n (321975, 246, 433122383),\n (322381, 168, 237624367),\n (322106, 721, 1278306473),\n (322118, 220, 404810924),\n (324980, 2245, 3948095706),\n (321781, 374, 675449847),\n (322492, 513, 887015676),\n (321879, 253, 417135050),\n (322381, 76, 67581145),\n (325101, 8, 13579904),\n (321990, 230, 417756325),\n (322068, 367, 607400738),\n (322068, 301, 480897477),\n (325100, 151, 304628587),\n (322252, 545, 957391851),\n (322324, 3, 5448096),\n (322599, 68, 61386686),\n (324970, 1865, 3375804741),\n (322605, 171, 330062483),\n (324747, 217, 293350134),\n (323488, 579, 1050871096),\n (325022, 387, 617613189),\n (323525, 474, 821835898),\n (324980, 1934, 3506330776),\n (324970, 171, 291101096),\n (324021, 743, 1353964057),\n (324840, 29, 50937237),\n (324245, 318, 593836987)]\n"
     ]
    }
   ],
   "source": [
    "# # Finding Elisa's duplicate 3P1F event:\n",
    "# counter = Counter(fc_jakevselisa_3p1f.ls_of_tup_elis)\n",
    "# pprint([k for k,v in counter.items() if v > 1])\n",
    "\n",
    "# # Finding Elisa's duplicate 2P2F event:\n",
    "# counter = Counter(fc_jakevselisa_2p2f.ls_of_tup_elis)\n",
    "# pprint([k for k,v in counter.items() if v > 1])\n",
    "\n",
    "# Finding ALL of Elisa's duplicate events:\n",
    "# counter = Counter(fc_jakevselisa_all.ls_of_tup_elis)\n",
    "# pprint([k for k,v in counter.items() if v == 4])\n",
    "\n",
    "\n",
    "# # Finding Jake's duplicate 3P1F event:\n",
    "counter = Counter(fc_jakevselisa_3p1f.ls_of_tup_jake)\n",
    "pprint([k for k,v in counter.items() if v > 1])\n",
    "\n",
    "# # Finding Jake's duplicate 2P2F event:\n",
    "# counter = Counter(fc_jakevselisa_2p2f.ls_of_tup_jake)\n",
    "# pprint([k for k,v in counter.items() if v > 1])\n",
    "\n",
    "# Finding ALL of Jake's duplicate events:\n",
    "# counter = Counter(fc_jakevselisa_all.ls_of_tup_jake)\n",
    "# pprint([k for k,v in counter.items() if v == 4])\n",
    "\n",
    "# pprint(f\"len of ls_of_tup_elis  = {len(fc_jakevselisa_all.ls_of_tup_elis)}\")\n",
    "# print(f\"len of set_of_tup_elis = {len(set(fc_jakevselisa_all.ls_of_tup_elis))}\")"
   ]
  },
  {
   "cell_type": "markdown",
   "metadata": {},
   "source": [
    "### Duplicate event belongs to these possible data sets:\n",
    "\n",
    "* /DoubleMuon/Run2018A-12Nov2019_UL2018-v2/MINIAOD\n",
    "* /DoubleMuon/Run2018A-17Sep2018-v2/MINIAOD\n",
    "* /DoubleMuon/Run2018A-PromptReco-v1/MINIAOD\n",
    "* /DoubleMuon/Run2018A-UL2018_MiniAODv2-v1/MINIAOD\n",
    "* /EGamma/Run2018A-12Nov2019_UL2018-v2/MINIAOD\n",
    "* /EGamma/Run2018A-17Sep2018-v2/MINIAOD\n",
    "* /EGamma/Run2018A-22Jun2018-v1/MINIAOD\n",
    "* /EGamma/Run2018A-PromptReco-v1/MINIAOD\n",
    "* /EGamma/Run2018A-UL2018_MiniAODv2-v1/MINIAOD\n",
    "* /MuonEG/Run2018A-12Nov2019_UL2018_rsb-v1/MINIAOD\n",
    "* /MuonEG/Run2018A-17Sep2018-v1/MINIAOD\n",
    "* /MuonEG/Run2018A-PromptReco-v1/MINIAOD\n",
    "* /MuonEG/Run2018A-UL2018_MiniAODv2-v1/MINIAOD\n",
    "* /SingleMuon/Run2018A-06Jun2018-v1/MINIAOD\n",
    "* /SingleMuon/Run2018A-12Nov2019_UL2018-v3/MINIAOD\n",
    "* /SingleMuon/Run2018A-17Sep2018-v2/MINIAOD\n",
    "* /SingleMuon/Run2018A-PromptReco-v1/MINIAOD\n",
    "* /SingleMuon/Run2018A-UL2018_MiniAODv2-v2/MINIAOD\n",
    "\n",
    "\n",
    "\n"
   ]
  },
  {
   "cell_type": "markdown",
   "metadata": {},
   "source": [
    "## Elisa has a unique event (that Jake doesn't have):\n",
    "(321834, 84, 126135620)\n",
    "\n",
    "### Data sets which contain this run\n",
    "\n",
    "* /DoubleMuon/Run2018D-PromptReco-v2/MINIAOD\n",
    "* /EGamma/Run2018D-22Jan2019-v2/MINIAOD\n",
    "* /EGamma/Run2018D-PromptReco-v2/MINIAOD\n",
    "* /MuonEG/Run2018D-PromptReco-v2/MINIAOD\n",
    "* /SingleMuon/Run2018D-22Jan2019-v2/MINIAOD\n",
    "* /SingleMuon/Run2018D-PromptReco-v2/MINIAOD\n",
    "\n",
    "\n"
   ]
  },
  {
   "cell_type": "code",
   "execution_count": 175,
   "metadata": {},
   "outputs": [
    {
     "output_type": "stream",
     "name": "stdout",
     "text": [
      "======> EVENT:511\n Run             = 315420\n Event           = 173693574\n LumiSect        = 224\n finalState      = 3\n passedZ1LSelection = 0\n passedZXCRSelection = 1\n eventWeight     = 0.928322\n k_qqZZ_qcd_M    = 1\n k_qqZZ_ewk      = 1\n met             = 87.0738\n mass4l          = 129.299\n lep_Hindex      = (vector<int>*)0x558b636262a0\n lep_pt          = (vector<float>*)0x558b6277a160\n lep_eta         = (vector<float>*)0x558b5fac7f20\n lep_phi         = (vector<float>*)0x558b64fff9d0\n lep_mass        = (vector<float>*)0x558b6051c390\n lep_RelIsoNoFSR = (vector<float>*)0x558b642c39b0\n lep_id          = (vector<int>*)0x558b63bba2a0\n lep_tightId     = (vector<int>*)0x558b64e173b0\n lep_matchedR03_PdgId = (vector<int>*)0x558b63be6570\n lep_matchedR03_MomId = (vector<int>*)0x558b63875da0\n lep_matchedR03_MomMomId = (vector<int>*)0x558b64873f30\n vtxLepFSR_BS_pt = (vector<double>*)0x558b6345a470\n vtxLepFSR_BS_eta = (vector<double>*)0x558b61ac9af0\n vtxLepFSR_BS_phi = (vector<double>*)0x558b63669d40\n vtxLepFSR_BS_mass = (vector<double>*)0x558b63bfb6e0\n lepFSR_pt       = (vector<float>*)0x558b61ad1ab0\n lepFSR_eta      = (vector<float>*)0x558b6364f750\n lepFSR_phi      = (vector<float>*)0x558b63b3e9d0\n lepFSR_mass     = (vector<float>*)0x558b60d18b00\n lep_genindex    = (vector<int>*)0x558b64009e80\n mass4l_noFSR    = 129.299\n mass4lErr       = 2.08618\n mass4lREFIT     = 129.399\n mass4lErrREFIT  = 1.48411\n mass4lErrREFIT_vtx = 1.48411\n mass4lREFIT_vtx = 129.412\n mass4l_vtx      = 129.311\n mass4lErr_vtx   = 2.08612\n mass4l_vtxFSR   = 4.59135e-41\n mass4l_vtx_BS   = 129.396\n mass4l_vtxFSR_BS = 129.396\n mass4lErr_vtx_BS = 2.08624\n mass4lREFIT_vtx_BS = 129.496\n mass4lErrREFIT_vtx_BS = 1.48404\n D_bkg_kin       = 0.848806\n D_bkg_kin_vtx_BS = 0.84839\n is2P2F          = 0\n is3P1F          = 1\n isMCzz          = 0\n weightwithFRratios = 0.112557\n fr2             = 0\n fr3             = 0.101169\n======> EVENT:20735\n Run             = 315420\n Event           = 173693574\n LumiSect        = 224\n finalState      = 3\n passedZ1LSelection = 0\n passedZXCRSelection = 1\n eventWeight     = 0.928322\n k_qqZZ_qcd_M    = 1\n k_qqZZ_ewk      = 1\n met             = 87.0738\n mass4l          = 129.299\n lep_Hindex      = (vector<int>*)0x558b636262a0\n lep_pt          = (vector<float>*)0x558b6277a160\n lep_eta         = (vector<float>*)0x558b5fac7f20\n lep_phi         = (vector<float>*)0x558b64fff9d0\n lep_mass        = (vector<float>*)0x558b6051c390\n lep_RelIsoNoFSR = (vector<float>*)0x558b642c39b0\n lep_id          = (vector<int>*)0x558b63bba2a0\n lep_tightId     = (vector<int>*)0x558b64e173b0\n lep_matchedR03_PdgId = (vector<int>*)0x558b63be6570\n lep_matchedR03_MomId = (vector<int>*)0x558b63875da0\n lep_matchedR03_MomMomId = (vector<int>*)0x558b64873f30\n vtxLepFSR_BS_pt = (vector<double>*)0x558b6345a470\n vtxLepFSR_BS_eta = (vector<double>*)0x558b61ac9af0\n vtxLepFSR_BS_phi = (vector<double>*)0x558b63669d40\n vtxLepFSR_BS_mass = (vector<double>*)0x558b63bfb6e0\n lepFSR_pt       = (vector<float>*)0x558b61ad1ab0\n lepFSR_eta      = (vector<float>*)0x558b6364f750\n lepFSR_phi      = (vector<float>*)0x558b63b3e9d0\n lepFSR_mass     = (vector<float>*)0x558b60d18b00\n lep_genindex    = (vector<int>*)0x558b64009e80\n mass4l_noFSR    = 129.299\n mass4lErr       = 2.08618\n mass4lREFIT     = 129.399\n mass4lErrREFIT  = 1.48411\n mass4lErrREFIT_vtx = 1.48411\n mass4lREFIT_vtx = 129.412\n mass4l_vtx      = 129.311\n mass4lErr_vtx   = 2.08612\n mass4l_vtxFSR   = 4.59135e-41\n mass4l_vtx_BS   = 129.396\n mass4l_vtxFSR_BS = 129.396\n mass4lErr_vtx_BS = 2.08624\n mass4lREFIT_vtx_BS = 129.496\n mass4lErrREFIT_vtx_BS = 1.48404\n D_bkg_kin       = 0.848806\n D_bkg_kin_vtx_BS = 0.84839\n is2P2F          = 0\n is3P1F          = 1\n isMCzz          = 0\n weightwithFRratios = 0.112557\n fr2             = 0\n fr3             = 0.101169\n"
     ]
    }
   ],
   "source": [
    "f = rt.TFile(infile_jake_tree)\n",
    "t = f.Get(\"passedEvents\")\n",
    "\n",
    "dup_tup = (315420, 224, 173693574)\n",
    "\n",
    "for ct, evt in enumerate(t):\n",
    "    if evt.Run == dup_tup[0] and evt.LumiSect == dup_tup[1] and evt.Event == dup_tup[2]:\n",
    "        t.Show(ct)"
   ]
  },
  {
   "cell_type": "code",
   "execution_count": 173,
   "metadata": {},
   "outputs": [
    {
     "output_type": "stream",
     "name": "stdout",
     "text": [
      "======> EVENT:26\n Run             = 316059\n Event           = 291781001\n LumiSect        = 264\n finalState      = 3\n passedZ1LSelection = 0\n passedZXCRSelection = 1\n eventWeight     = 0.892403\n k_qqZZ_qcd_M    = 1\n k_qqZZ_ewk      = 1\n met             = 42.9264\n mass4l          = 116.51\n lep_Hindex      = (vector<int>*)0x558b644ff940\n lep_pt          = (vector<float>*)0x558b655eca00\n lep_eta         = (vector<float>*)0x558b655ecf00\n lep_phi         = (vector<float>*)0x558b64e16e60\n lep_mass        = (vector<float>*)0x558b64e17360\n lep_RelIsoNoFSR = (vector<float>*)0x558b64e173d0\n lep_id          = (vector<int>*)0x558b64fffb10\n lep_tightId     = (vector<int>*)0x558b65010870\n lep_matchedR03_PdgId = (vector<int>*)0x558b650215d0\n lep_matchedR03_MomId = (vector<int>*)0x558b650214b0\n lep_matchedR03_MomMomId = (vector<int>*)0x558b65044b60\n vtxLepFSR_BS_pt = (vector<double>*)0x558b65056690\n vtxLepFSR_BS_eta = (vector<double>*)0x558b65056870\n vtxLepFSR_BS_phi = (vector<double>*)0x558b65077a60\n vtxLepFSR_BS_mass = (vector<double>*)0x558b65067400\n lepFSR_pt       = (vector<float>*)0x558b650886d0\n lepFSR_eta      = (vector<float>*)0x558b650a9ab0\n lepFSR_phi      = (vector<float>*)0x558b650ba810\n lepFSR_mass     = (vector<float>*)0x558b650cb570\n lep_genindex    = (vector<int>*)0x558b650dc2d0\n mass4l_noFSR    = 116.51\n mass4lErr       = 3.30265\n mass4lREFIT     = 114.467\n mass4lErrREFIT  = 1.92301\n mass4lErrREFIT_vtx = 1.92301\n mass4lREFIT_vtx = 114.475\n mass4l_vtx      = 116.518\n mass4lErr_vtx   = 3.302\n mass4l_vtxFSR   = 4.59135e-41\n mass4l_vtx_BS   = 116.597\n mass4l_vtxFSR_BS = 116.597\n mass4lErr_vtx_BS = 3.30217\n mass4lREFIT_vtx_BS = 114.555\n mass4lErrREFIT_vtx_BS = 1.92317\n D_bkg_kin       = 0.475868\n D_bkg_kin_vtx_BS = 0.477535\n is2P2F          = 0\n is3P1F          = 1\n isMCzz          = 0\n weightwithFRratios = 0.140637\n fr2             = 0\n fr3             = 0.123297\n"
     ]
    }
   ],
   "source": [
    "t.Show(26)"
   ]
  },
  {
   "cell_type": "code",
   "execution_count": 174,
   "metadata": {},
   "outputs": [
    {
     "output_type": "stream",
     "name": "stdout",
     "text": [
      "======> EVENT:20826\n Run             = 316059\n Event           = 291781001\n LumiSect        = 264\n finalState      = 3\n passedZ1LSelection = 0\n passedZXCRSelection = 1\n eventWeight     = 0.892403\n k_qqZZ_qcd_M    = 1\n k_qqZZ_ewk      = 1\n met             = 42.9264\n mass4l          = 116.51\n lep_Hindex      = (vector<int>*)0x558b644ff940\n lep_pt          = (vector<float>*)0x558b655eca00\n lep_eta         = (vector<float>*)0x558b655ecf00\n lep_phi         = (vector<float>*)0x558b64e16e60\n lep_mass        = (vector<float>*)0x558b64e17360\n lep_RelIsoNoFSR = (vector<float>*)0x558b64e173d0\n lep_id          = (vector<int>*)0x558b64fffb10\n lep_tightId     = (vector<int>*)0x558b65010870\n lep_matchedR03_PdgId = (vector<int>*)0x558b650215d0\n lep_matchedR03_MomId = (vector<int>*)0x558b650214b0\n lep_matchedR03_MomMomId = (vector<int>*)0x558b65044b60\n vtxLepFSR_BS_pt = (vector<double>*)0x558b65056690\n vtxLepFSR_BS_eta = (vector<double>*)0x558b65056870\n vtxLepFSR_BS_phi = (vector<double>*)0x558b65077a60\n vtxLepFSR_BS_mass = (vector<double>*)0x558b65067400\n lepFSR_pt       = (vector<float>*)0x558b650886d0\n lepFSR_eta      = (vector<float>*)0x558b650a9ab0\n lepFSR_phi      = (vector<float>*)0x558b650ba810\n lepFSR_mass     = (vector<float>*)0x558b650cb570\n lep_genindex    = (vector<int>*)0x558b650dc2d0\n mass4l_noFSR    = 116.51\n mass4lErr       = 3.30265\n mass4lREFIT     = 114.467\n mass4lErrREFIT  = 1.92301\n mass4lErrREFIT_vtx = 1.92301\n mass4lREFIT_vtx = 114.475\n mass4l_vtx      = 116.518\n mass4lErr_vtx   = 3.302\n mass4l_vtxFSR   = 4.59135e-41\n mass4l_vtx_BS   = 116.597\n mass4l_vtxFSR_BS = 116.597\n mass4lErr_vtx_BS = 3.30217\n mass4lREFIT_vtx_BS = 114.555\n mass4lErrREFIT_vtx_BS = 1.92317\n D_bkg_kin       = 0.475868\n D_bkg_kin_vtx_BS = 0.477535\n is2P2F          = 0\n is3P1F          = 1\n isMCzz          = 0\n weightwithFRratios = 0.140637\n fr2             = 0\n fr3             = 0.123297\n"
     ]
    }
   ],
   "source": [
    "t.Show(20826)"
   ]
  }
 ]
}