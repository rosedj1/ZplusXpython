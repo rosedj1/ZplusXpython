{
 "metadata": {
  "language_info": {
   "codemirror_mode": {
    "name": "ipython",
    "version": 3
   },
   "file_extension": ".py",
   "mimetype": "text/x-python",
   "name": "python",
   "nbconvert_exporter": "python",
   "pygments_lexer": "ipython3",
   "version": "3.8.2-final"
  },
  "orig_nbformat": 2,
  "kernelspec": {
   "name": "my_root_env",
   "display_name": "my_root_env"
  }
 },
 "nbformat": 4,
 "nbformat_minor": 2,
 "cells": [
  {
   "cell_type": "code",
   "execution_count": 3,
   "metadata": {},
   "outputs": [],
   "source": [
    "import ROOT as rt"
   ]
  },
  {
   "cell_type": "code",
   "execution_count": null,
   "metadata": {},
   "outputs": [],
   "source": [
    "infile = \"/cmsuf/data/store/user/t2/users/rosedj1/HiggsMassMeasurement/Samples/skim2L/Data/2018/fullstats/Data2018.root\"\n",
    "infile_new = infile.replace(\".root\", \"_NoDuplicates.root\")\n",
    "\n",
    "f = rt.TFile(infile)\n",
    "t = f.Get(\"Ana/passedEvents\")\n",
    "n_tot = t.GetEntries()\n",
    "\n",
    "f = rt.TFile(infile_new, \"recreate\")\n",
    "newtree = t.CloneTree(0)  # Clone 0 entries.\n",
    "for ct, evt in enumerate(t):\n",
    "    if (ct % 1000000) == 0:\n",
    "        print(f\"Event {ct}/{n_tot}.\")\n",
    "    evt.GetEntry(ct)\n",
    "    run = int(evt.Run)\n",
    "    lumisec = int(evt.LumiSect)\n",
    "    event_num = int(evt.Event)\n",
    "\n",
    "    key = f\"{run} {lumisec} {event_num}\"\n",
    "\n",
    "    if key not in event_dct.keys():\n",
    "        event_dct[key] = ct\n"
   ]
  }
 ]
}