{
 "metadata": {
  "language_info": {
   "codemirror_mode": {
    "name": "ipython",
    "version": 3
   },
   "file_extension": ".py",
   "mimetype": "text/x-python",
   "name": "python",
   "nbconvert_exporter": "python",
   "pygments_lexer": "ipython3",
   "version": "3.8.2-final"
  },
  "orig_nbformat": 2,
  "kernelspec": {
   "name": "my_root_env",
   "display_name": "my_root_env"
  }
 },
 "nbformat": 4,
 "nbformat_minor": 2,
 "cells": [
  {
   "cell_type": "code",
   "execution_count": 1,
   "metadata": {},
   "outputs": [],
   "source": [
    "import sys\n",
    "import os\n",
    "sys.path.append('/blue/avery/rosedj1/')\n",
    "sys.path.append('/blue/avery/rosedj1/HiggsMassMeasurement')\n",
    "\n",
    "from HiggsMassMeasurement.Utils_Python.SlurmManager import SLURMSubmitter"
   ]
  },
  {
   "cell_type": "code",
   "execution_count": null,
   "metadata": {},
   "outputs": [],
   "source": [
    "#--- Hadd all files of a common data set (e.g. MuonEG A-D). ---#\n",
    "outdir = \"/cmsuf/data/store/user/t2/users/rosedj1/HiggsMassMeasurement/Samples/skim2L/Data/2018/fullstats/\"\n",
    "indir_t2 = \"/cmsuf/data/store/user/drosenzw/UFHZZAnalysisRun2/Data2018/skim2L/\"\n",
    "\n",
    "datasets = (\n",
    "    \"EGamma\",\n",
    "    \"DoubleMuon\",\n",
    "    \"MuonEG\",\n",
    "    \"SingleMuon\"\n",
    ")\n",
    "for dataset in datasets:\n",
    "    inglob = f\"{os.path.join(indir_t2, dataset)}/crab_{dataset}*/*/*/{dataset}*.root\"\n",
    "    outfile = os.path.join(outdir, f\"{dataset}.root\")\n",
    "\n",
    "    slurm_script = os.path.join(outdir, f\"{dataset}_2018.sbatch\")\n",
    "\n",
    "    slurm = SLURMSubmitter(verbose=True)\n",
    "    slurm.prep_directives(job_name=f\"{dataset}_2018\",\n",
    "                        output_txt=os.path.join(outdir, f\"{dataset}_2018.out\"),\n",
    "                        email=\"rosedj1@ufl.edu\",\n",
    "                        time=\"08:00:00\",\n",
    "                        acct=\"avery\",\n",
    "                        burst=False,\n",
    "                        mem=(64, \"gb\"),\n",
    "                        partition=\"bigmem\", #\"hpg2-compute\",\n",
    "                        nodes=1)\n",
    "    cmdtup = (f\"\"\"hadd {outfile} {inglob}\"\"\", )\n",
    "    slurm.make_slurm_script(slurm_outpath=slurm_script, cmdtup=cmdtup)\n",
    "    slurm.submit_script(os.path.join(outdir, f\"{dataset}_2018.sbatch\"))\n"
   ]
  },
  {
   "cell_type": "code",
   "execution_count": 6,
   "metadata": {},
   "outputs": [
    {
     "output_type": "stream",
     "name": "stdout",
     "text": [
      "Writing directives to SLURM script.\nWriting pre-script instructions to SLURM script.\nWriting commands to SLURM script.\nWriting post-script instructions to SLURM script.\nSLURM script successfully written:\n/cmsuf/data/store/user/t2/users/rosedj1/HiggsMassMeasurement/Samples/skim2L/Data/2018/fullstats/Data2018.sbatch\n"
     ]
    },
    {
     "output_type": "execute_result",
     "data": {
      "text/plain": [
       "CompletedProcess(args=['sbatch', '/cmsuf/data/store/user/t2/users/rosedj1/HiggsMassMeasurement/Samples/skim2L/Data/2018/fullstats/Data2018.sbatch'], returncode=0)"
      ]
     },
     "metadata": {},
     "execution_count": 6
    }
   ],
   "source": [
    "#--- Hadd full-stat data sets into single file. ---#\n",
    "indir = \"/cmsuf/data/store/user/t2/users/rosedj1/HiggsMassMeasurement/Samples/skim2L/Data/2018/fullstats/\"\n",
    "outfile = os.path.join(indir, \"Data2018.root\")\n",
    "\n",
    "datasets = (\n",
    "    \"EGamma\",\n",
    "    \"DoubleMuon\",\n",
    "    \"MuonEG\",\n",
    "    \"SingleMuon\"\n",
    ")\n",
    "\n",
    "dset_str = \"\"\"\"\"\"\n",
    "for dataset in datasets:\n",
    "    dset_str += os.path.join(indir, f\"{dataset}.root \")\n",
    "\n",
    "slurm_script = os.path.join(indir, \"Data2018.sbatch\")\n",
    "\n",
    "slurm = SLURMSubmitter(verbose=True)\n",
    "slurm.prep_directives(job_name=\"hadd_fullstat_datasets_2018\",\n",
    "                    output_txt=os.path.join(indir, \"hadd_fullstat_datasets_2018.out\"),\n",
    "                    email=\"rosedj1@ufl.edu\",\n",
    "                    time=\"08:00:00\",\n",
    "                    acct=\"avery\",\n",
    "                    burst=False,\n",
    "                    mem=(64, \"gb\"),\n",
    "                    partition=\"bigmem\", #\"hpg2-compute\",\n",
    "                    nodes=1)\n",
    "slurm.make_slurm_script(\n",
    "    slurm_outpath=slurm_script,\n",
    "    cmdtup=(f\"\"\"hadd {outfile} {dset_str}\"\"\", )\n",
    "    )\n",
    "slurm.submit_script(slurm_script)\n"
   ]
  },
  {
   "cell_type": "code",
   "execution_count": null,
   "metadata": {},
   "outputs": [],
   "source": []
  }
 ]
}