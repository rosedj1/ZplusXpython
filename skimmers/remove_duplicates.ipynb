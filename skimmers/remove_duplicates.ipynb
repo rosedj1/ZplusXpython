{
 "metadata": {
  "language_info": {
   "codemirror_mode": {
    "name": "ipython",
    "version": 3
   },
   "file_extension": ".py",
   "mimetype": "text/x-python",
   "name": "python",
   "nbconvert_exporter": "python",
   "pygments_lexer": "ipython3",
   "version": "3.8.2-final"
  },
  "orig_nbformat": 2,
  "kernelspec": {
   "name": "my_root_env",
   "display_name": "my_root_env"
  }
 },
 "nbformat": 4,
 "nbformat_minor": 2,
 "cells": [
  {
   "cell_type": "code",
   "execution_count": null,
   "metadata": {},
   "outputs": [],
   "source": [
    "import ROOT as rt\n",
    "import sys\n",
    "\n",
    "sys.path.append(\"/blue/avery/rosedj1/\")\n",
    "from HiggsMassMeasurement.Utils_Python.Utils_Files import check_overwrite\n",
    "from pprint import pprint"
   ]
  },
  {
   "cell_type": "code",
   "execution_count": null,
   "metadata": {},
   "outputs": [],
   "source": [
    "def print_size(obj, name):\n",
    "    \"\"\"Print info about size of `obj` with `name`.\"\"\"\n",
    "    print(f\"{name} has allocated memory: {obj.__sizeof__()}\")"
   ]
  },
  {
   "cell_type": "code",
   "execution_count": null,
   "metadata": {},
   "outputs": [],
   "source": [
    "infile = \"/cmsuf/data/store/user/t2/users/rosedj1/HiggsMassMeasurement/Samples/skim2L/Data/2018/fullstats/ZL_ZLL_4P_CR/MuonEG_Duplicates.root\"\n",
    "# infile = \"/cmsuf/data/store/user/t2/users/rosedj1/HiggsMassMeasurement/Samples/skim2L/Data/2018/fullstats/Data2018.root\"\n",
    "infile_new = infile.replace(\"_Dup\", \"_NoDup\")\n",
    "overwrite = 1\n",
    "\n",
    "f = rt.TFile(infile)\n",
    "t = f.Get(\"passedEvents\")\n",
    "n_tot = t.GetEntries()\n",
    "print(f\"File opened:\\n{infile}\")\n",
    "\n",
    "check_overwrite(infile_new, overwrite=overwrite)\n",
    "newfile = rt.TFile(infile_new, \"recreate\")\n",
    "\n",
    "newtree = t.CloneTree(0)  # Clone 0 entries.\n",
    "print(\"TTree cloned. Filled with 0 entries.\")\n",
    "\n",
    "num_duplicates = 0\n",
    "event_ls = []\n",
    "for ct, evt in enumerate(t):\n",
    "    if (ct % 5000) == 0:\n",
    "        print(f\"Event {ct}/{n_tot}.\")\n",
    "\n",
    "    evt.GetEntry(ct)\n",
    "    key = (evt.Run, evt.LumiSect, evt.Event, )\n",
    "\n",
    "    # num_to_break = 10\n",
    "    # if ct == num_to_break:\n",
    "    #     break\n",
    "\n",
    "    if key not in event_ls:\n",
    "        newtree.Fill()\n",
    "        event_ls.append(key)\n",
    "    else:\n",
    "        num_duplicates += 1\n",
    "\n",
    "newtree.Write()\n",
    "newfile.Close()\n",
    "\n",
    "print(f\"New TTree written to file:\\n{newfile}\")\n",
    "print(f\"Number of duplicates found: {num_duplicates}\")"
   ]
  }
 ]
}