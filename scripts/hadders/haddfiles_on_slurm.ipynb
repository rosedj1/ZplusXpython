{
 "metadata": {
  "language_info": {
   "codemirror_mode": {
    "name": "ipython",
    "version": 3
   },
   "file_extension": ".py",
   "mimetype": "text/x-python",
   "name": "python",
   "nbconvert_exporter": "python",
   "pygments_lexer": "ipython3",
   "version": "3.8.2-final"
  },
  "orig_nbformat": 2,
  "kernelspec": {
   "name": "my_root_env",
   "display_name": "my_root_env"
  }
 },
 "nbformat": 4,
 "nbformat_minor": 2,
 "cells": [
  {
   "cell_type": "markdown",
   "metadata": {},
   "source": [
    "# `hadd` data files on SLURM"
   ]
  },
  {
   "cell_type": "code",
   "execution_count": 1,
   "metadata": {},
   "outputs": [],
   "source": [
    "import sys\n",
    "import os\n",
    "sys.path.append('/cmsuf/data/store/user/t2/users/rosedj1/')\n",
    "# sys.path.append('/cmsuf/data/store/user/t2/users/rosedj1/HiggsMassMeasurement')\n",
    "\n",
    "from HiggsMassMeasurement.Utils_Python.SlurmManager import SLURMSubmitter"
   ]
  },
  {
   "cell_type": "markdown",
   "metadata": {},
   "source": [
    "## Hadd files of a common data set (e.g. MuonEG A-D)."
   ]
  },
  {
   "cell_type": "code",
   "execution_count": 8,
   "metadata": {},
   "outputs": [
    {
     "output_type": "stream",
     "name": "stdout",
     "text": [
      "Writing directives to SLURM script.\nWriting pre-script instructions to SLURM script.\nWriting commands to SLURM script.\nWriting post-script instructions to SLURM script.\nSLURM script successfully written:\n/cmsuf/data/store/user/t2/users/rosedj1/Samples/skim2L_UL/Data/2017/fullstats/DoubleEG_2017.sbatch\nSubmitting slurm script:\n/cmsuf/data/store/user/t2/users/rosedj1/Samples/skim2L_UL/Data/2017/fullstats/DoubleEG_2017.sbatch\n"
     ]
    }
   ],
   "source": [
    "indir_t2 = \"/cmsuf/data/store/user/drosenzw/UFHZZAnalysisRun2/UL/Data2017/skim2L_UL/\"\n",
    "outdir = \"/cmsuf/data/store/user/t2/users/rosedj1/Samples/skim2L_UL/Data/2017/fullstats/\"\n",
    "\n",
    "year = 2017\n",
    "suffix_to_outfile = \"-UL2017_MiniAODv2_missingonejob\"  # Make empty string if you don't want suffix.\n",
    "\n",
    "#################\n",
    "#=== 2017 UL ===#\n",
    "#################\n",
    "datasets = [\n",
    "    \"DoubleEG\",\n",
    "    #=== Below is done. ===#\n",
    "    # \"MuonEG\",\n",
    "    # \"SingleElectron\",\n",
    "    # \"SingleMuon\",\n",
    "    # \"DoubleMuon\",\n",
    "]\n",
    "\n",
    "##############\n",
    "#=== 2018 ===#\n",
    "##############\n",
    "# datasets = (\n",
    "#     \"EGamma\",\n",
    "#     \"DoubleMuon\",\n",
    "#     \"MuonEG\",\n",
    "#     \"SingleMuon\"\n",
    "# )\n",
    "assert not isinstance(datasets, str)\n",
    "for dataset in datasets:\n",
    "    inglob = f\"{os.path.join(indir_t2, dataset)}/crab_{dataset}*/*/*/{dataset}*.root\"\n",
    "    outfile = os.path.join(outdir, f\"{dataset}.root\")\n",
    "    if len(suffix_to_outfile) > 0:\n",
    "        outfile = outfile.replace(\".root\", f\"{suffix_to_outfile}.root\")\n",
    "\n",
    "    slurm_script = os.path.join(outdir, f\"{dataset}_{year}.sbatch\")\n",
    "\n",
    "    slurm = SLURMSubmitter(verbose=True)\n",
    "    slurm.prep_directives(job_name=f\"{dataset}_{year}\",\n",
    "                        output_txt=os.path.join(outdir, f\"{dataset}_{year}.out\"),\n",
    "                        email=\"rosedj1@ufl.edu\",\n",
    "                        time=\"08:00:00\",\n",
    "                        acct=\"avery\",\n",
    "                        burst=False,\n",
    "                        mem=(64, \"gb\"),\n",
    "                        partition=\"bigmem\", #\"hpg2-compute\",\n",
    "                        nodes=1)\n",
    "    cmdtup = (f\"\"\"hadd {outfile} {inglob}\"\"\", )\n",
    "    slurm.make_slurm_script(slurm_outpath=slurm_script, cmdtup=cmdtup)\n",
    "    slurm.submit_script(os.path.join(outdir, f\"{dataset}_{year}.sbatch\"))\n"
   ]
  },
  {
   "cell_type": "markdown",
   "metadata": {},
   "source": [
    "## Hadd full-stat data sets into single file."
   ]
  },
  {
   "cell_type": "code",
   "execution_count": 3,
   "metadata": {},
   "outputs": [
    {
     "output_type": "stream",
     "name": "stdout",
     "text": [
      "Writing directives to SLURM script.\nWriting pre-script instructions to SLURM script.\nWriting commands to SLURM script.\nWriting post-script instructions to SLURM script.\nSLURM script successfully written:\n/cmsuf/data/store/user/t2/users/rosedj1/HiggsMassMeasurement/Samples/skim2L/Data/2018/fullstats/ZL_ZLL_4P_CR/Data2018_NoDuplicates.sbatch\n"
     ]
    },
    {
     "output_type": "execute_result",
     "data": {
      "text/plain": [
       "0"
      ]
     },
     "metadata": {},
     "execution_count": 3
    }
   ],
   "source": [
    "indir = \"/cmsuf/data/store/user/t2/users/rosedj1/HiggsMassMeasurement/Samples/skim2L/Data/2018/fullstats/ZL_ZLL_4P_CR/\"\n",
    "outdir = os.path.join(indir, \"noduplicates/\")\n",
    "outfile_name = \"Data2018_NoDuplicates.root\"\n",
    "outfile = os.path.join(outdir, outfile_name)\n",
    "\n",
    "infile_suffix = \"_Duplicates\"\n",
    "datasets = (\n",
    "    f\"EGamma{infile_suffix}\",\n",
    "    f\"DoubleMuon{infile_suffix}\",\n",
    "    f\"MuonEG{infile_suffix}\",\n",
    "    f\"SingleMuon{infile_suffix}\"\n",
    ")\n",
    "\n",
    "dset_str = \"\"\"\"\"\"\n",
    "for dataset in datasets:\n",
    "    dset_str += os.path.join(indir, f\"{dataset}.root \")\n",
    "\n",
    "slurm_script = os.path.join(indir, outfile_name.replace(\".root\", \".sbatch\"))\n",
    "\n",
    "slurm = SLURMSubmitter(verbose=True)\n",
    "job_name = f\"hadd_ZL_ZLL_4P_CR_{outfile_name.rstrip('.root')}\"\n",
    "slurm.prep_directives(job_name=job_name,\n",
    "                    output_txt=os.path.join(indir, f\"{job_name}.out\"),\n",
    "                    email=\"rosedj1@ufl.edu\",\n",
    "                    time=\"08:00:00\",\n",
    "                    acct=\"avery\",\n",
    "                    burst=False,\n",
    "                    mem=(64, \"gb\"),\n",
    "                    partition=\"bigmem\", #\"hpg2-compute\",\n",
    "                    nodes=1)\n",
    "slurm.make_slurm_script(\n",
    "    slurm_outpath=slurm_script,\n",
    "    cmdtup=(f\"\"\"hadd {outfile} {dset_str}\"\"\", )\n",
    "    )\n",
    "slurm.submit_script(slurm_script)\n"
   ]
  },
  {
   "cell_type": "code",
   "execution_count": null,
   "metadata": {},
   "outputs": [],
   "source": []
  }
 ]
}