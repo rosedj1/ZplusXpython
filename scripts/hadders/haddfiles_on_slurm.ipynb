{
 "metadata": {
  "language_info": {
   "codemirror_mode": {
    "name": "ipython",
    "version": 3
   },
   "file_extension": ".py",
   "mimetype": "text/x-python",
   "name": "python",
   "nbconvert_exporter": "python",
   "pygments_lexer": "ipython3",
   "version": "3.8.2-final"
  },
  "orig_nbformat": 2,
  "kernelspec": {
   "name": "my_root_env",
   "display_name": "my_root_env"
  }
 },
 "nbformat": 4,
 "nbformat_minor": 2,
 "cells": [
  {
   "cell_type": "markdown",
   "metadata": {},
   "source": [
    "# `hadd` data files on SLURM"
   ]
  },
  {
   "cell_type": "code",
   "execution_count": 2,
   "metadata": {},
   "outputs": [],
   "source": [
    "import sys\n",
    "import os\n",
    "sys.path.append('/blue/avery/rosedj1/')\n",
    "sys.path.append('/blue/avery/rosedj1/HiggsMassMeasurement')\n",
    "\n",
    "from HiggsMassMeasurement.Utils_Python.SlurmManager import SLURMSubmitter"
   ]
  },
  {
   "cell_type": "markdown",
   "metadata": {},
   "source": [
    "## Hadd files of a common data set (e.g. MuonEG A-D)."
   ]
  },
  {
   "cell_type": "code",
   "execution_count": null,
   "metadata": {},
   "outputs": [],
   "source": [
    "outdir = \"/cmsuf/data/store/user/t2/users/rosedj1/HiggsMassMeasurement/Samples/skim2L/Data/2018/fullstats/\"\n",
    "indir_t2 = \"/cmsuf/data/store/user/drosenzw/UFHZZAnalysisRun2/Data2018/skim2L/\"\n",
    "\n",
    "datasets = (\n",
    "    \"EGamma\",\n",
    "    \"DoubleMuon\",\n",
    "    \"MuonEG\",\n",
    "    \"SingleMuon\"\n",
    ")\n",
    "for dataset in datasets:\n",
    "    inglob = f\"{os.path.join(indir_t2, dataset)}/crab_{dataset}*/*/*/{dataset}*.root\"\n",
    "    outfile = os.path.join(outdir, f\"{dataset}.root\")\n",
    "\n",
    "    slurm_script = os.path.join(outdir, f\"{dataset}_2018.sbatch\")\n",
    "\n",
    "    slurm = SLURMSubmitter(verbose=True)\n",
    "    slurm.prep_directives(job_name=f\"{dataset}_2018\",\n",
    "                        output_txt=os.path.join(outdir, f\"{dataset}_2018.out\"),\n",
    "                        email=\"rosedj1@ufl.edu\",\n",
    "                        time=\"08:00:00\",\n",
    "                        acct=\"avery\",\n",
    "                        burst=False,\n",
    "                        mem=(64, \"gb\"),\n",
    "                        partition=\"bigmem\", #\"hpg2-compute\",\n",
    "                        nodes=1)\n",
    "    cmdtup = (f\"\"\"hadd {outfile} {inglob}\"\"\", )\n",
    "    slurm.make_slurm_script(slurm_outpath=slurm_script, cmdtup=cmdtup)\n",
    "    slurm.submit_script(os.path.join(outdir, f\"{dataset}_2018.sbatch\"))\n"
   ]
  },
  {
   "cell_type": "markdown",
   "metadata": {},
   "source": [
    "## Hadd full-stat data sets into single file."
   ]
  },
  {
   "cell_type": "code",
   "execution_count": 3,
   "metadata": {},
   "outputs": [
    {
     "output_type": "stream",
     "name": "stdout",
     "text": [
      "Writing directives to SLURM script.\nWriting pre-script instructions to SLURM script.\nWriting commands to SLURM script.\nWriting post-script instructions to SLURM script.\nSLURM script successfully written:\n/cmsuf/data/store/user/t2/users/rosedj1/HiggsMassMeasurement/Samples/skim2L/Data/2018/fullstats/ZL_ZLL_4P_CR/Data2018_NoDuplicates.sbatch\n"
     ]
    },
    {
     "output_type": "execute_result",
     "data": {
      "text/plain": [
       "0"
      ]
     },
     "metadata": {},
     "execution_count": 3
    }
   ],
   "source": [
    "indir = \"/cmsuf/data/store/user/t2/users/rosedj1/HiggsMassMeasurement/Samples/skim2L/Data/2018/fullstats/ZL_ZLL_4P_CR/\"\n",
    "outdir = os.path.join(indir, \"noduplicates/\")\n",
    "outfile_name = \"Data2018_NoDuplicates.root\"\n",
    "outfile = os.path.join(outdir, outfile_name)\n",
    "\n",
    "infile_suffix = \"_Duplicates\"\n",
    "datasets = (\n",
    "    f\"EGamma{infile_suffix}\",\n",
    "    f\"DoubleMuon{infile_suffix}\",\n",
    "    f\"MuonEG{infile_suffix}\",\n",
    "    f\"SingleMuon{infile_suffix}\"\n",
    ")\n",
    "\n",
    "dset_str = \"\"\"\"\"\"\n",
    "for dataset in datasets:\n",
    "    dset_str += os.path.join(indir, f\"{dataset}.root \")\n",
    "\n",
    "slurm_script = os.path.join(indir, outfile_name.replace(\".root\", \".sbatch\"))\n",
    "\n",
    "slurm = SLURMSubmitter(verbose=True)\n",
    "job_name = f\"hadd_ZL_ZLL_4P_CR_{outfile_name.rstrip('.root')}\"\n",
    "slurm.prep_directives(job_name=job_name,\n",
    "                    output_txt=os.path.join(indir, f\"{job_name}.out\"),\n",
    "                    email=\"rosedj1@ufl.edu\",\n",
    "                    time=\"08:00:00\",\n",
    "                    acct=\"avery\",\n",
    "                    burst=False,\n",
    "                    mem=(64, \"gb\"),\n",
    "                    partition=\"bigmem\", #\"hpg2-compute\",\n",
    "                    nodes=1)\n",
    "slurm.make_slurm_script(\n",
    "    slurm_outpath=slurm_script,\n",
    "    cmdtup=(f\"\"\"hadd {outfile} {dset_str}\"\"\", )\n",
    "    )\n",
    "slurm.submit_script(slurm_script)\n"
   ]
  },
  {
   "cell_type": "code",
   "execution_count": null,
   "metadata": {},
   "outputs": [],
   "source": []
  }
 ]
}