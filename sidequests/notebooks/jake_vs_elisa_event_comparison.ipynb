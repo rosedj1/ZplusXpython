{
 "cells": [
  {
   "cell_type": "markdown",
   "metadata": {},
   "source": [
    "# Event Sync between CJLST and BBF"
   ]
  },
  {
   "cell_type": "markdown",
   "metadata": {},
   "source": [
    "## Build Event-by-Event Analyzer for CJLST/Elisa's RedBkg events."
   ]
  },
  {
   "cell_type": "code",
   "execution_count": 4,
   "metadata": {},
   "outputs": [],
   "source": [
    "# Execute `voms-proxy-init` in the shell before starting this JupyNB.\n",
    "import sys\n",
    "sys.path.append(\"/cmsuf/data/store/user/t2/users/rosedj1/HiggsMassMeasurement\")\n",
    "sys.path.append(\"/cmsuf/data/store/user/t2/users/rosedj1/ZplusXpython\")\n",
    "\n",
    "# from Utils_Python.Commands import shell_cmd\n",
    "# from Utils_Python.Utils_Files import save_to_json, open_json\n",
    "\n",
    "# import numpy as np\n",
    "# import matplotlib.pyplot as plt\n",
    "# from pprint import pprint\n",
    "# from ROOT import TFile, TCanvas, gStyle\n",
    "\n",
    "# from Utils_Python.Utils_Files import check_overwrite\n",
    "# from sidequests.data.cjlst_fw import CjlstFlag\n",
    "\n",
    "# t_matteo_up = uproot.open(f\"root://eoscms.cern.ch/{infile_matteo_data2018}:CRZLLTree/candTree\", timeout=180)\n",
    "# runnum_arr = t_matteo_up[\"RunNumber\"].array(library=\"np\")"
   ]
  },
  {
   "cell_type": "markdown",
   "metadata": {},
   "source": [
    "## Make txt files of events."
   ]
  },
  {
   "cell_type": "code",
   "execution_count": null,
   "metadata": {},
   "outputs": [],
   "source": [
    "write_tree_info_to_txt(infile_jake_tree, infile_jake_2p2f, keep_2P2F=True, keep_3P1F=False)\n",
    "write_tree_info_to_txt(infile_jake_tree, infile_jake_3p1f, keep_2P2F=False, keep_3P1F=True)"
   ]
  },
  {
   "cell_type": "markdown",
   "metadata": {},
   "source": [
    "## Compare files."
   ]
  },
  {
   "cell_type": "code",
   "execution_count": null,
   "metadata": {},
   "outputs": [],
   "source": [
    "# fc_elisa_2p2fvs3p1f = FileComparer(infile_elisa_2p2f, infile_elisa_3p1f)\n",
    "fc_jakevselisa_3p1f = FileComparer(infile_jake_3p1f, infile_elisa_3p1f, control_reg=\"3p1f\", verbose=True)\n",
    "fc_jakevselisa_2p2f = FileComparer(infile_jake_2p2f, infile_elisa_2p2f, control_reg=\"2p2f\", verbose=True)\n",
    "fc_jakevselisa_all  = FileComparer(infile_jake, infile_elisa, control_reg=\"\", verbose=True)\n",
    "\n",
    "# fc_jakevselisa_3p1f.print_results(whose=\"file1\", show_n_evts=5)\n",
    "# fc_jakevselisa_3p1f.print_results(whose=\"file2\", show_n_evts=5)\n",
    "# fc_jakevselisa_2p2f.print_results(whose=\"file1\", show_n_evts=5)\n",
    "# fc_jakevselisa_2p2f.print_results(whose=\"file2\", show_n_evts=5)\n",
    "# # fc_jakevselisa_all.print_results(whose=\"all\", show_n_evts=10)\n",
    "\n",
    "# # Write the events to txt.\n",
    "# overwrite = 0\n",
    "# fc_jakevselisa_3p1f.save_events_to_txt(kind=\"file1_unique\", outtxt=outfile_jake_3p1f_unique, no_dup=True, overwrite=overwrite)\n",
    "# fc_jakevselisa_3p1f.save_events_to_txt(kind=\"file2_unique\", outtxt=outfile_elisa_3p1f_unique, no_dup=True, overwrite=overwrite)\n",
    "# fc_jakevselisa_3p1f.save_events_to_txt(kind=\"common\", outtxt=outfile_3p1f_common, no_dup=True, overwrite=overwrite)\n",
    "\n",
    "# fc_jakevselisa_2p2f.save_events_to_txt(kind=\"file1_unique\", outtxt=outfile_jake_2p2f_unique, no_dup=True, overwrite=overwrite)\n",
    "# fc_jakevselisa_2p2f.save_events_to_txt(kind=\"file2_unique\", outtxt=outfile_elisa_2p2f_unique, no_dup=True, overwrite=overwrite)\n",
    "# fc_jakevselisa_2p2f.save_events_to_txt(kind=\"common\", outtxt=outfile_2p2f_common, no_dup=True, overwrite=overwrite)\n",
    "\n",
    "len(fc_jakevselisa_all.ls_of_tup_file2) - len(fc_jakevselisa_all.ls_of_tup_file2_nodup)\n",
    "\n",
    "# Make a manual counter.\n",
    "# Print out events which appear more than once in fc_jakevselisa_all.ls_of_tup_file2.\n",
    "for f in fc_jakevselisa_all.ls_of_tup_file2:\n",
    "    ct = 0\n",
    "    if f in fc_jakevselisa_all.ls_of_tup_file2_nodup:\n",
    "        if ct == 5: break\n",
    "        print(f)\n",
    "# Identify the 2 events from 120 which didn't appear in 118.\n",
    "# Why did counter not find them?"
   ]
  },
  {
   "cell_type": "markdown",
   "metadata": {},
   "source": [
    "## LLR Group's (diff. xs) RedBkg Files\n",
    "\n",
    "Vukasin pointed me to their root files:\n",
    "\n",
    "- `/afs/cern.ch/user/v/vmilosev/public/forJake/new_ZX_LLR/AllData*`\n",
    "\n",
    "Let's have a look."
   ]
  },
  {
   "cell_type": "code",
   "execution_count": null,
   "metadata": {},
   "outputs": [],
   "source": [
    "infile_llr_2018 = \"/blue/avery/rosedj1/ZplusXpython/sidequests/data/LLR_redbkg/AllData_ZX_redTree_2018.root\"\n",
    "\n",
    "f_llr = TFile(infile_llr_2018)\n",
    "t_llr = f_llr.Get(\"SelectedTree\")\n",
    "\n",
    "odd_event = (315488, 152, 135937874, )\n",
    "\n",
    "n_tot_evts = t_llr.GetEntries()\n",
    "for evt_num, evt in enumerate(t_llr):\n",
    "    if (evt_num % 500) == 0:\n",
    "        print(f\"Checking event #{evt_num}/{n_tot_evts}\")\n",
    "    if evt.RunNumber != odd_event[0]:\n",
    "        continue\n",
    "    if evt.LumiNumber != odd_event[1]:\n",
    "        continue\n",
    "    if evt.EventNumber != odd_event[2]:\n",
    "        continue\n",
    "    print(f\"Event found ({evt.RunNumber}:{evt.LumiNumber}:{evt.EventNumber}) at index {evt_num}\")\n",
    "    break\n",
    "\n",
    "list(t.GetListOfBranches())\n",
    "\n",
    "t.Scan(\"htxs_stage1_red_cat:htxs_stage1_red_catName:htxs_stage1_red_prod_cat:htxs_stage1_red_prod_catName\")\n",
    "\n",
    "#--- Counting instances of htxs_stage1 ---#\n",
    "# htxs_stage1_red_catName_ls = [str(evt.htxs_stage1_red_catName) for evt in t if evt.htxs_stage1_red_catName == 'ZX']\n",
    "# count_ZX_str = Counter(htxs_stage1_red_catName_ls)\n",
    "htxs_stage1_red_cat_ls = [str(evt.htxs_stage1_red_cat) for evt in t if evt.htxs_stage1_red_cat == -2]\n",
    "count_ZX_cat = Counter(htxs_stage1_red_cat_ls)\n",
    "# dup_key_ls = [k for k,v in counter.items() if v > 1]\n",
    "print(count_ZX_cat)\n",
    "\n",
    "t.GetEntries()  # 12331\n",
    "\n",
    "#--- Tried to match any of Elisa's ZLL events to diff. xs group's events.\n",
    "#--- None matched.\n",
    "elisa_evtid_2p2f_tup = get_list_of_tuples(get_list_of_lines(infile_elisa_2p2f))\n",
    "n_tot_tup = len(elisa_evtid_2p2f_tup)\n",
    "start_at = 1000\n",
    "for num_tup, tup in enumerate(elisa_evtid_2p2f_tup[start_at:], start_at):\n",
    "    if (num_tup % 1000) == 0:\n",
    "        print(f\"Checking tuple #{num_tup}/{n_tot_tup}\")\n",
    "    for evt_num, evt in enumerate(t):\n",
    "        if evt.RunNumber != elisa_evtid_2p2f_tup_example[0]:\n",
    "            continue\n",
    "        if evt.LumiNumber != elisa_evtid_2p2f_tup_example[1]:\n",
    "            continue\n",
    "        if evt.EventNumber != elisa_evtid_2p2f_tup_example[2]:\n",
    "            continue\n",
    "        print(f\"Event {evt_num}, {evt.RunNumber}:{evt.LumiNumber}:{evt.EventNumber}\")\n",
    "        break"
   ]
  },
  {
   "cell_type": "markdown",
   "metadata": {},
   "source": [
    "## Conclusion\n",
    "\n",
    "These are Diff. XS Group's SR samples.\n",
    "They do not contain RedBkg info.\n",
    "\n",
    "### So What Next?\n",
    "\n",
    "Matteo gave me a CJLST 2018 Data NTuple to look at.\n",
    "\n",
    "Let's have a look."
   ]
  },
  {
   "cell_type": "markdown",
   "metadata": {},
   "source": [
    "## Verify duplicate.\n"
   ]
  },
  {
   "cell_type": "code",
   "execution_count": null,
   "metadata": {},
   "outputs": [],
   "source": [
    "# Count the number of 3P1F, 2P2F, and SS events in CJLST NTuples:\n",
    "for c in CjlstFlag:\n",
    "    conreg = c.name\n",
    "    n = t_matteo.GetEntries(f\"CRflag == {c}\")\n",
    "    print(f\"Number of {conreg} entries: {n}\")\n",
    "# Output:\n",
    "# Number of CR3P1F entries: 4806  (after removing duplicate -> 4805)\n",
    "# Number of CR2P2F entries: 46067 (after removing duplicate -> 46066)\n",
    "# Number of CRLLss entries: 50144\n",
    "# I believe there is one duplicate in 3P1F and 2P2F:\n",
    "# 315512 : 947 : 703286863"
   ]
  },
  {
   "cell_type": "code",
   "execution_count": null,
   "metadata": {},
   "outputs": [],
   "source": [
    "# Building CJLST event analyzer.\n",
    "dup = (315512, 947, 703286863)\n",
    "ct = 0\n",
    "dup_dict = {}\n",
    "    for evt_num, evt in enumerate(t):\n",
    "        if evt.RunNumber != :\n",
    "            continue\n",
    "        if evt.LumiNumber != :\n",
    "            continue\n",
    "        if evt.EventNumber != :\n",
    "            continue\n",
    "    ct += 1\n",
    "    dup_dict[evt_num] = (evt.RunNumber, evt.LumiNumber, evt.EventNumber, evt.Z1Mass, evt.Z2Mass, evt.ZZMass,)\n",
    "    if ct > 1:\n",
    "        break "
   ]
  },
  {
   "cell_type": "code",
   "execution_count": null,
   "metadata": {},
   "outputs": [],
   "source": [
    "guinea_pig_tup = (315512, 947, 703286863, )\n",
    "for evt_num, evt in enumerate(t_jake_2018data):\n",
    "    if evt.Run != guinea_pig_tup[0]:\n",
    "        continue\n",
    "    if evt.LumiSect != guinea_pig_tup[1]:\n",
    "        continue\n",
    "    if evt.Event != guinea_pig_tup[2]:\n",
    "        continue\n",
    "    print(f\"Event number {evt_num}.\")\n",
    "    print(f\"lep_pt: {list(evt.lep_pt)}\")\n",
    "    print(f\"lep_FSRpt: {list(evt.lep_FSRpt)}\")\n",
    "    break\n",
    "\n",
    "\n",
    "# t_jake_2018data.GetEntry(660)\n",
    "print(f\"t_jake_2018data.lep_Hindex: {list(t_jake_2018data.lep_Hindex)}\")\n",
    "print(f\"t_jake_2018data.lepFSR_pt: {list(t_jake_2018data.lepFSR_pt)}\")\n",
    "print(f\"t_jake_2018data.lep_RelIso: {list(t_jake_2018data.lep_RelIso)}\")\n",
    "print(f\"t_jake_2018data.lep_id: {list(t_jake_2018data.lep_id)}\")\n",
    "print(f\"t_jake_2018data.lep_tightId: {list(t_jake_2018data.lep_tightId)}\")\n",
    "# print(f\"t_jake_2018data.lep_tightId: {t_jake_2018data.lep_tightId}\")\n",
    "# print(f\"t_jake_2018data.lep_RelIsoNoFSR: {t_jake_2018data.RelIsoNoFSR}\")\n",
    "\n",
    "# print(f\"t_jake_2018data.lep_id: {t_jake_2018data.lep_id}\")\n",
    "\n",
    "t_jake_2018data.passedZXCRSelection\n",
    "print(t_jake_2018data.Run)\n",
    "print(t_jake_2018data.LumiSect)\n",
    "print(t_jake_2018data.Event)\n",
    "\n",
    "# elisa_unique_event_3p1f_325159_181_259586791.root\n",
    "unique_3p1f_evt = (321973, 1133, 1973286739,)\n",
    "for evt_num, evt in enumerate(t_jake_2018data):\n",
    "    if evt.Run != unique_3p1f_evt[0]:\n",
    "        continue\n",
    "    if evt.LumiSect != unique_3p1f_evt[1]:\n",
    "        continue\n",
    "    if evt.Event != unique_3p1f_evt[2]:\n",
    "        continue\n",
    "    print(f\"Event number {evt_num}.\")\n",
    "    print(f\"lep_pt: {list(evt.lep_pt)}\")\n",
    "    print(f\"lep_FSRpt: {list(evt.lep_FSRpt)}\")\n",
    "    break\n",
    "\n",
    "\n",
    "from ROOT import TFile\n",
    "f_matteo = TFile.Open(f\"root://eoscms.cern.ch/{infile_matteo_data2018}\")\n",
    "t_matteo = f_matteo.Get(\"CRZLLTree/candTree\")\n",
    "print(f\"File opened:\\n{infile_matteo_data2018}\")\n",
    "\n",
    "f_jake = TFile.Open(infile_jake_tree)\n",
    "t_jake = f_jake.Get(\"passedEvents\")\n",
    "\n",
    "f_elisa_353 = TFile(infile_elisa_unique_353)\n",
    "t_elisa_353 = f_elisa_353.Get(\"Ana/passedEvents\")"
   ]
  },
  {
   "cell_type": "markdown",
   "metadata": {},
   "source": [
    "### Make a `dict` (all CJLST eventIDs : CRs) and then look for Elisa's unique events.\n",
    "\n",
    "- All of Elisa's events were (of course) found in the CJLST NTuple."
   ]
  },
  {
   "cell_type": "code",
   "execution_count": null,
   "metadata": {},
   "outputs": [],
   "source": [
    "n_tot_cjlst = t_matteo.GetEntries()\n",
    "cjlst_evtid_dct = {}\n",
    "for evt_num, evt in enumerate(t_matteo):\n",
    "    if (evt_num % 5000) == 0:\n",
    "        print(f\"CJLST TTree at entry: {evt_num}/{n_tot_cjlst}\")\n",
    "    key = f\"{evt.RunNumber} : {evt.LumiNumber} : {evt.EventNumber}\"\n",
    "    this_single_cr_ls = [CjlstFlag(evt.CRflag).name]\n",
    "    if key not in cjlst_evtid_dct.keys():\n",
    "        cjlst_evtid_dct[key] = this_single_cr_ls\n",
    "    else:\n",
    "        # Event with this Run:Lumi:Event has already been stored.\n",
    "        # This entry contains a new CR (by combining different leptons).\n",
    "        cjlst_evtid_dct[key].extend(this_single_cr_ls)"
   ]
  },
  {
   "cell_type": "code",
   "execution_count": null,
   "metadata": {},
   "outputs": [],
   "source": [
    "import json\n",
    "outfile = \"/blue/avery/rosedj1/ZplusXpython/sidequests/findmissingevents_comparetoelisa/cjlst_evtID_CR_dct.json\"\n",
    "\n",
    "with open(outfile, 'w') as f:\n",
    "    json.dump(cjlst_evtid_dct, f, indent=4, sort_keys=False)\n",
    "print(f\"[INFO] JSON file written:\\n{outfile}\\n\")"
   ]
  },
  {
   "cell_type": "code",
   "execution_count": null,
   "metadata": {},
   "outputs": [],
   "source": [
    "# cjlst_evtid_dct = open_json(\"/blue/avery/rosedj1/ZplusXpython/sidequests/findmissingevents_comparetoelisa/cjlst_evtID_CR_dct.json\")\n",
    "cjlst_evtid_dct = open_json(\"/cmsuf/data/store/user/t2/users/rosedj1/ZplusXpython/sidequests/data/json/cjlst_evtID_CR_dct.json\")"
   ]
  },
  {
   "cell_type": "code",
   "execution_count": null,
   "metadata": {},
   "outputs": [],
   "source": [
    "# Make dict (Elisa's eventIDs : CRs).\n",
    "elisa_3p1f_unique_ls_tup = get_list_of_tuples(get_list_of_lines(outfile_elisa_3p1f_unique))\n",
    "\n",
    "n_tot_uniq = len(elisa_3p1f_unique_ls_tup)\n",
    "n_tot_cjlst = t_matteo.GetEntries()\n",
    "elisa_3p1f_unique_evtid_dct = {}\n",
    "\n",
    "for unique_evt_num, evt_id in enumerate(elisa_3p1f_unique_ls_tup, 1):\n",
    "    if (unique_evt_num % 100) == 0:\n",
    "        print(f\"Searching for Elisa's unique event {unique_evt_num}/{n_tot_uniq}: {evt_id}\")\n",
    "    elisa_key = f\"{evt_id[0]} : {evt_id[1]} : {evt_id[2]}\"\n",
    "    elisa_3p1f_unique_evtid_dct[elisa_key] = cjlst_evtid_dct[elisa_key]\n",
    "\n",
    "save_to_json(elisa_3p1f_unique_evtid_dct, elisa_3p1f_unique_evtid_dct_json, overwrite=False, sort_keys=False)"
   ]
  },
  {
   "cell_type": "markdown",
   "metadata": {},
   "source": [
    "## Properties of CJLST's unique 3P1F events:"
   ]
  },
  {
   "cell_type": "code",
   "execution_count": null,
   "metadata": {},
   "outputs": [],
   "source": [
    "# Counter(elisa_3p1f_unique_evtid_dct.keys())\n",
    "# list(elisa_3p1f_unique_evtid_dct.values())[:15]\n",
    "ct = 0\n",
    "for uniq_evtID, cr in elisa_3p1f_unique_evtid_dct.items():\n",
    "    # if (\"CR3P1F\" in cr) and (len(cr) == 1):\n",
    "    if \"CR2P2F\" in cr:\n",
    "        print(f\"eventID = {uniq_evtID}, CR = {cr}\")\n",
    "        ct += 1\n",
    "print(ct)"
   ]
  },
  {
   "cell_type": "markdown",
   "metadata": {},
   "source": [
    "### Do any of the unique events also belong to SR?"
   ]
  },
  {
   "cell_type": "code",
   "execution_count": null,
   "metadata": {},
   "outputs": [],
   "source": [
    "#--- Make a dict(CJLST's SR eventID : CR) events. ---#\n",
    "# cjlst_sr_ls_tup = get_list_of_tuples(get_list_of_lines(infile_cjlst_sr))\n",
    "# cjlst_evtid_sr_dct = {k:['SR'] for k in cjlst_sr_ls_tup}\n"
   ]
  },
  {
   "cell_type": "code",
   "execution_count": null,
   "metadata": {},
   "outputs": [],
   "source": [
    "elisa_3p1f_unique_evtid_dct = open_json(elisa_3p1f_unique_evtid_dct_json)\n",
    "elisa_3p1fonly_unique_ls = [k for k,v in elisa_3p1f_unique_evtid_dct.items() if len(v) == 1 and 'CR3P1F' in v]\n",
    "pprint(elisa_3p1fonly_unique_ls)\n",
    "# set(cjlst_evtid_sr_dct.keys()) & set()"
   ]
  },
  {
   "cell_type": "code",
   "execution_count": null,
   "metadata": {},
   "outputs": [],
   "source": [
    "# A few of Elisa's unique 3P1F events that belong to ONLY 3P1F:\n",
    "elisa_3p1fonly_unique_ls[:4]"
   ]
  },
  {
   "cell_type": "code",
   "execution_count": null,
   "metadata": {},
   "outputs": [],
   "source": [
    "# t_elisa_353 = BBF TTree, edmPickEvents on all of Elisa's unique 3P1F events.\n",
    "analyze_single_evt(t_elisa_353, 321973, 1133, 1973286739, fw=\"bbf\", which=\"all\", evt_start=0, print_every=1000)"
   ]
  },
  {
   "cell_type": "code",
   "execution_count": null,
   "metadata": {},
   "outputs": [],
   "source": [
    "# analyze_single_evt(t_elisa_353, run, lumi, event, fw=\"bbf\", which=\"all\", evt_start=0, print_every=1000)\n",
    "analyze_single_evt(t_elisa_353, 321305, 1003, 1613586694, fw=\"cjlst\", which=\"all\", evt_start=0, print_every=10000)"
   ]
  },
  {
   "cell_type": "code",
   "execution_count": null,
   "metadata": {},
   "outputs": [],
   "source": [
    "elisa_3p1fonly_unique_set"
   ]
  },
  {
   "cell_type": "code",
   "execution_count": null,
   "metadata": {},
   "outputs": [],
   "source": [
    "set(elisa_3p1fonly_unique_ls)"
   ]
  },
  {
   "cell_type": "code",
   "execution_count": null,
   "metadata": {},
   "outputs": [],
   "source": [
    "t_elisa_353_evtls = [(evt.Run, evt.LumiSect, evt.Event, ) for evt in t_elisa_353]\n",
    "set_elisa_353_evt = set(t_elisa_353_evtls)"
   ]
  },
  {
   "cell_type": "code",
   "execution_count": null,
   "metadata": {},
   "outputs": [],
   "source": [
    "elisa_3p1fonly_unique_set = set()\n",
    "for evtid in elisa_3p1fonly_unique_ls:\n",
    "    str_ls = evtid.split(\":\")\n",
    "    str_ls = [s.rstrip().lstrip() for s in str_ls]\n",
    "    run = int(str_ls[0])\n",
    "    lumi = int(str_ls[1])\n",
    "    event = int(str_ls[2])\n",
    "    elisa_3p1fonly_unique_set.add((run, lumi, event, ))"
   ]
  },
  {
   "cell_type": "code",
   "execution_count": null,
   "metadata": {},
   "outputs": [],
   "source": [
    "ntrsct_353evt_and_elisa3p1fonlyunique_ls = list(set_elisa_353_evt & elisa_3p1fonly_unique_set)\n",
    "ntrsct_353evt_and_elisa3p1fonlyunique_ls[:5]"
   ]
  },
  {
   "cell_type": "code",
   "execution_count": null,
   "metadata": {},
   "outputs": [],
   "source": [
    "len(ntrsct_353evt_and_elisa3p1fonlyunique_ls)"
   ]
  },
  {
   "cell_type": "code",
   "execution_count": null,
   "metadata": {},
   "outputs": [],
   "source": [
    "analyze_single_evt(t_matteo, 322430, 331, 543297179, fw=\"cjlst\", which=\"all\", evt_start=0, print_every=10000)  # event index: 52198\n"
   ]
  },
  {
   "cell_type": "code",
   "execution_count": null,
   "metadata": {},
   "outputs": [],
   "source": [
    "analyze_single_evt(t_matteo, 325159, 181, 259586791, fw=\"cjlst\", which=\"all\", evt_start=0, print_every=10000)  # event index: 52490\n"
   ]
  },
  {
   "cell_type": "code",
   "execution_count": null,
   "metadata": {},
   "outputs": [],
   "source": [
    "analyze_single_evt(t_elisa_353, 322430, 331, 543297179, fw=\"bbf\", which=\"all\", evt_start=0, print_every=1000)"
   ]
  },
  {
   "cell_type": "markdown",
   "metadata": {},
   "source": [
    "## The Difference between CJLST and BBF Analyzers:\n",
    "\n",
    "- Elisa has 432 unique 3P1F-only events (`elisa_3p1fonly_unique_ls`).\n",
    "- Of these, I scraped 236 events (`ntrsct_353evt_and_elisa3p1fonlyunique_ls`) and ran the UFHZZAnalyzer on them.\n",
    "\n",
    "Filippo suspects that CJLST does not require the Z1 leptons to be tight.\n",
    "\n",
    "- This is not the case! The Z1 leptons ARE required to be tight.\n",
    "    - It's just that BBF assigns a Z1 candidate, THEN checks it for tight leptons, then throws the ZZ candidate away before checking the OTHER Z for tight leptons (and assigning THAT one as the Z1)."
   ]
  },
  {
   "cell_type": "code",
   "execution_count": null,
   "metadata": {},
   "outputs": [],
   "source": [
    "fig, ax = plt.subplots(1, 1)\n",
    "bin_vals, bin_edges, _ = ax.hist(data, bins=range(0,12), align='left')\n",
    "ax.set_xlabel(r'Number of leptons per event')\n",
    "ax.set_ylabel(r'Number of events')\n",
    "ax.set_title(f'Analyzing 236/432 purely 3P1F events')"
   ]
  },
  {
   "cell_type": "code",
   "execution_count": null,
   "metadata": {},
   "outputs": [],
   "source": [
    "# cr_counts = Counter([tuple(sorted(v)) for v in elisa_3p1f_unique_evtid_dct.values()])\n",
    "# df = pd.DataFrame.from_dict(cr_counts, orient='index')\n",
    "# df.plot(kind='bar', legend=False, figsize=(12,9), grid=True, logy=False, fontsize=20, tick)\n",
    "\n",
    "cr_counts"
   ]
  },
  {
   "cell_type": "code",
   "execution_count": null,
   "metadata": {},
   "outputs": [],
   "source": [
    "n_tot_uniq = len(elisa_3p1f_unique_ls_tup)\n",
    "n_tot_cjlst = t_matteo.GetEntries()\n",
    "elisa_3p1f_unique_evtid_dct = {}\n",
    "\n",
    "for unique_evt_num, evt_id in enumerate(elisa_3p1f_unique_ls_tup[:1], 1):\n",
    "    if (unique_evt_num % 1) == 0:\n",
    "        print(f\"Searching for Elisa's unique event {unique_evt_num}/{n_tot_uniq}: {evt_id}\")\n",
    "    cr_ls = []\n",
    "    run   = evt_id[0]\n",
    "    lumi  = evt_id[1]\n",
    "    event = evt_id[2]\n",
    "    new_key = f\"{run} : {lumi} : {event}\"\n",
    "    for cjlst_evt_num, cjlst_evt in enumerate(t_matteo):\n",
    "        if (cjlst_evt_num % 10000) == 0:\n",
    "            print(f\"Scanning CJLST TTree for matching entry: {cjlst_evt_num}/{n_tot_cjlst}\")\n",
    "        if (run != cjlst_evt.RunNumber):\n",
    "            continue\n",
    "        if (lumi != cjlst_evt.LumiNumber):\n",
    "            continue\n",
    "        if (event != cjlst_evt.EventNumber):\n",
    "            continue\n",
    "        print(f\"EVENT FOUND! Entry number: {cjlst_evt_num}\")\n",
    "        cr_ls.extend([CjlstFlag(cjlst_evt.CRflag).name])\n",
    "    # cr_ls = [CjlstFlag(evt.CRflag).name for evt in t_matteo if (run == evt.RunNumber) and (lumi == evt.LumiNumber) and (event == evt.EventNumber)]\n",
    "    elisa_3p1f_unique_evtid_dct[new_key] = cr_ls\n",
    "pprint(elisa_3p1f_unique_evtid_dct)"
   ]
  },
  {
   "cell_type": "code",
   "execution_count": null,
   "metadata": {},
   "outputs": [],
   "source": [
    "evt_id_ls_matteo = [(evt.RunNumber, evt.LumiNumber, evt.EventNumber,) for evt in t_matteo]\n",
    "len(evt_id_ls_matteo) - len(set(evt_id_ls_matteo))\n",
    "counter = Counter(evt_id_ls_matteo)\n",
    "# pprint(list(counter.values())[:5])\n",
    "dup_key_ls = [(k, ct) for k,ct in counter.items() if k == (315488, 152, 135937874,)]\n",
    "\n",
    "evt_id_tup = (315488, 152, 135937874, )\n",
    "counter[evt_id_tup]"
   ]
  },
  {
   "cell_type": "markdown",
   "metadata": {},
   "source": [
    "### Find how many of CJLST RedBkg events contain exactly 4 leps:"
   ]
  },
  {
   "cell_type": "code",
   "execution_count": null,
   "metadata": {},
   "outputs": [],
   "source": [
    "###############\n",
    "#--- CJLST ---#\n",
    "###############\n",
    "n_tot = t_matteo.GetEntries()\n",
    "redbkg_CRs = [flag.name for flag in CjlstFlag]\n",
    "cr_flag_ls_cjlst = []\n",
    "\n",
    "print(\"Finding all events in CJLST file with 4 leps per event.\")\n",
    "for evt_num, evt in enumerate(t_matteo):\n",
    "    if (evt_num % 10000) == 0:\n",
    "        print(f\"Event {evt_num}/{n_tot}\")\n",
    "    n_reco_ele = evt.NRecoEle\n",
    "    n_reco_mu  = evt.NRecoMu\n",
    "    if (n_reco_ele + n_reco_mu) != 4:\n",
    "        continue\n",
    "    cr_flag_ls_cjlst.extend([evt.CRflag])\n",
    "# Count occurrence of each CR:\n",
    "print(f\"Number of events with 4 leps: {len(cr_flag_ls_cjlst)}\")\n",
    "cr_flag_cntr_cjlst = Counter(cr_flag_ls_cjlst)\n",
    "pprint([(CjlstFlag(k).name, ct) for k, ct in cr_flag_cntr_cjlst.items()])\n",
    "\n",
    "#############\n",
    "#--- BBF ---#\n",
    "#############\n",
    "n_tot = t_jake.GetEntries()\n",
    "redbkg_CRs = [flag.name for flag in CjlstFlag]\n",
    "cr_flag_ls_bbf = []\n",
    "evts_to_investigate = []\n",
    "\n",
    "print(\"Finding all events in BBF file with 4 leps per event.\")\n",
    "for evt_num, evt in enumerate(t_jake):\n",
    "    if (evt_num % 5000) == 0:\n",
    "        print(f\"Event {evt_num}/{n_tot}\")\n",
    "    if len(evt.lep_pt) != 4:\n",
    "        continue\n",
    "    cr_flag_ls_bbf.extend([get_control_region(evt)])\n",
    "\n",
    "    if sum(list(evt.lep_tightId)) >= 4:\n",
    "        evts_to_investigate.extend([evt_num])\n",
    "# Count occurrence of each CR:\n",
    "print(f\"Number of events with 4 leps: {len(cr_flag_ls_bbf)}\")\n",
    "cr_flag_cntr_bbf = Counter(cr_flag_ls_bbf)\n",
    "pprint([(k, ct) for k, ct in cr_flag_cntr_bbf.items()])"
   ]
  }
 ],
 "metadata": {
  "kernelspec": {
   "display_name": "my_root_env",
   "language": "python",
   "name": "my_root_env"
  },
  "language_info": {
   "codemirror_mode": {
    "name": "ipython",
    "version": 3
   },
   "file_extension": ".py",
   "mimetype": "text/x-python",
   "name": "python",
   "nbconvert_exporter": "python",
   "pygments_lexer": "ipython3",
   "version": "3.8.2"
  },
  "toc-autonumbering": true,
  "toc-showcode": false,
  "toc-showmarkdowntxt": true
 },
 "nbformat": 4,
 "nbformat_minor": 4
}
