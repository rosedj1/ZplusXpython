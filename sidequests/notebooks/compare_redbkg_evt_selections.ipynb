{
 "cells": [
  {
   "cell_type": "markdown",
   "metadata": {},
   "source": [
    "# New RedBkg Analyzer"
   ]
  },
  {
   "cell_type": "markdown",
   "metadata": {},
   "source": [
    "## Use Filippo's 2018 Data to identify all 2P2+F and 3P1+F CRs.\n",
    "\n",
    "- [ ] Count all such events.\n",
    "- [ ] Make TH2 dists for all types.\n",
    "- [ ] Create new root file with new branches (is2P2F, is3P1F, is4P0F)\n",
    "   - [ ] Maybe use enums?"
   ]
  },
  {
   "cell_type": "code",
   "execution_count": null,
   "metadata": {},
   "outputs": [
    {
     "name": "stdout",
     "output_type": "stream",
     "text": [
      "Welcome to JupyROOT 6.20/04\n"
     ]
    }
   ],
   "source": [
    "import os\n",
    "# import sys\n",
    "from pprint import pprint\n",
    "from ROOT import TFile, TCanvas, Math, TPaveText, gStyle, gPad\n",
    "import numpy as np\n",
    "# top_dir = \"/blue/avery/rosedj1/\"\n",
    "\n",
    "# from Utils_ROOT.Printer import CanvasPrinter\n",
    "# from Utils_Python.Plot_Styles_ROOT.tdrstyle_official import setTDRStyle, tdrGrid, fixOverlay\n",
    "\n",
    "top_dir = \"/cmsuf/data/store/user/t2/users/rosedj1\"\n",
    "sys.path.append(os.path.join(top_dir, \"HiggsMassMeasurement\"))\n",
    "sys.path.append(os.path.join(top_dir, \"ZplusXpython\"))"
   ]
  },
  {
   "cell_type": "code",
   "execution_count": 12,
   "metadata": {},
   "outputs": [],
   "source": [
    "def draw_th2(h2, as_percent=False, z_max=100000, selec=\"\"):\n",
    "    c = TCanvas()\n",
    "    c.Draw()\n",
    "    \n",
    "    h2.GetXaxis().SetRangeUser(2, 5)\n",
    "    h2.GetYaxis().SetRangeUser(0, 3)\n",
    "    h2.GetXaxis().SetNdivisions(3)\n",
    "    h2.GetYaxis().SetNdivisions(3)\n",
    "    h2.GetXaxis().CenterLabels(True)\n",
    "    h2.GetYaxis().CenterLabels(True)\n",
    "    gStyle.SetOptStat(0)\n",
    "    h2.SetContour(100)\n",
    "    h2.GetZaxis().SetRangeUser(0, z_max)\n",
    "    h2.Draw(\"colz text\")\n",
    "    if as_percent:\n",
    "        gStyle.SetPaintTextFormat(\".2f%%\")\n",
    "    else:\n",
    "        gStyle.SetPaintTextFormat(\".0f\")\n",
    "\n",
    "#         gStyle.SetPaintTextFormat(\".2g%%\")\n",
    "\n",
    "    pave = make_pave(xmin=0.6, ymin=0.70, xmax=0.88, ymax=0.88)\n",
    "    pave.SetTextSize(0.03)\n",
    "    pave.AddText(\"Selection:\")\n",
    "    if selec.lower() in \"cjlst\":\n",
    "        pave.AddText(\"HIG-19-001 OS Method\")\n",
    "        pave.AddText(r\"n_{leps} = 4\")\n",
    "    elif selec.lower() in \"relax\":\n",
    "        pave.AddText(r\"n_{leps} = 4\")\n",
    "        pave.AddText(r\"#sum(charge) = #sum(flavor) = 0\")\n",
    "        pave.AddText(r\"m_{4l} > 70 GeV\")\n",
    "    pave.Draw(\"same\")\n",
    "    return c, pave"
   ]
  },
  {
   "cell_type": "markdown",
   "metadata": {},
   "source": [
    "### CJLST Functions"
   ]
  },
  {
   "cell_type": "code",
   "execution_count": null,
   "metadata": {},
   "outputs": [],
   "source": [
    "# def make_good_zz_cands(zcand_ls, make_ALL_pairs=False):\n",
    "#     \"\"\"Return a list of ZZCandidate objects that pass ZZ selections.\n",
    "    \n",
    "#     For signal region considerations:\n",
    "#     From HIG-19-001 (EPJC) p.5:\n",
    "#     If more than 1 ZZ candidate passes the selections:\n",
    "#         if 2 ZZ candidates consist of the same 4 leptons:\n",
    "#             keep the ZZ candidate whose Z1 mass is closer to the PDG Z mass.\n",
    "#         otherwise:\n",
    "#             keep the candidate with the highest value of the background\n",
    "#             kinematic discriminant.\n",
    "            \n",
    "#     For RedBkg considerations, keep ALL ZZ candidates.\n",
    "#     Each ZZ candidate can be a different contribution to a control region.\n",
    "#     E.g.:\n",
    "#         Suppose you have 5 leptons:\n",
    "#             mu-  mu+  e-   e+   e2+\n",
    "#             pass pass fail fail fail\n",
    "#         There are 2 different 4l combinations that can give you a 2P2F event:\n",
    "#             2P2Fa = mu-  mu+  e-   e+\n",
    "#             2P2Fb = mu-  mu+  e-   e2+\n",
    "#         2P2Fa is a ZZ candidate and 2P2Fb is a different ZZ candidate.\n",
    "#         So we need to keep all ZZ candidates!\n",
    "#     \"\"\"\n",
    "#     if make_ALL_pairs:\n",
    "#         zz_pair_ls = make_all_zz_pairs(zcand_ls)\n",
    "#     else:\n",
    "#         zz_pair_ls = make_zz_pairs(zcand_ls)\n",
    "#     zz_cand_ls = [zz for zz in zz_pair_ls if zz.check_passes_zz_selec()]\n",
    "#     n_zz_cands = len(zz_cand_ls)\n",
    "#     if n_zz_cands > 1:\n",
    "#         # FIXME: Need to implement D_kin_bkg for different ZZ candidates.\n",
    "#         print(f\"[TESTING] Number of ZZ candidates found: {n_zz_cands}\")\n",
    "#         for zz in zz_cand_ls:\n",
    "#             pprint(vars(zz))\n",
    "#     return zz_cand_ls"
   ]
  },
  {
   "cell_type": "markdown",
   "metadata": {},
   "source": [
    "# Comparing Event Selections\n",
    "\n",
    "CJLST and BBF slightly differ in their RedBkg event selections."
   ]
  },
  {
   "cell_type": "markdown",
   "metadata": {},
   "source": [
    "## RedBkg Event Selection: CJLST\n",
    "\n",
    "We are interested in comparing the \"Really Relaxed Event Selection\" with CJLST's RedBkg Event Selection.\n",
    "\n",
    "- [ ] Make TH2 of number of loose leptons vs. number of tight leptons.\n",
    "   - How do the number of events compare?"
   ]
  },
  {
   "cell_type": "code",
   "execution_count": 38,
   "metadata": {},
   "outputs": [],
   "source": [
    "# With good smart cut.\n",
    "# pprint(evt_info_d):\n",
    "# {'n_evts_eq4_leps': 626767,\n",
    "#  'n_evts_fail_zzcand': 0,\n",
    "#  'n_evts_ge4_leps': 0,\n",
    "#  'n_evts_lt2_zcand': 0,\n",
    "#  'n_evts_lt2tightleps': 0,\n",
    "#  'n_evts_lt4_leps': 0,\n",
    "#  'n_evts_lt4tightpluslooseleps': 0,\n",
    "#  'n_evts_ne2_zcand': 0,\n",
    "#  'n_evts_ne4_leps': 7464896,\n",
    "#  'n_evts_passedFullSelection': 2449,\n",
    "#  'n_evts_passedZXCRSelection': 0,\n",
    "#  'n_za_haslooseleps_whenfailsmartcut': 106,\n",
    "#  'n_za_hastightleps_whenfailsmartcut': 68}"
   ]
  },
  {
   "cell_type": "code",
   "execution_count": 32,
   "metadata": {},
   "outputs": [
    {
     "data": {
      "image/png": "[encoded data removed]",
      "text/plain": [
       "<IPython.core.display.Image object>"
      ]
     },
     "metadata": {},
     "output_type": "display_data"
    }
   ],
   "source": [
    "canv, pave = draw_th2(h2_nlooseleps_vs_ntightleps_evtsel_cjlst, as_percent=False, z_max=40000, selec=\"cjlst\")"
   ]
  },
  {
   "cell_type": "code",
   "execution_count": 40,
   "metadata": {},
   "outputs": [
    {
     "data": {
      "image/png": "[encoded data removed]",
      "text/plain": [
       "<IPython.core.display.Image object>"
      ]
     },
     "metadata": {},
     "output_type": "display_data"
    }
   ],
   "source": [
    "canv, pave = draw_th2(h2_nlooseleps_vs_ntightleps_evtsel_cjlst_badsmartcut, as_percent=False, z_max=40000, selec=\"cjlst\")"
   ]
  },
  {
   "cell_type": "code",
   "execution_count": null,
   "metadata": {},
   "outputs": [],
   "source": [
    "canv.Print(\"/cmsuf/data/store/user/t2/users/rosedj1/ZplusXpython/sidequests/data2018_h2_numlooseleps_vs_numtightleps_cjlstevtselec.pdf\")"
   ]
  },
  {
   "cell_type": "code",
   "execution_count": null,
   "metadata": {},
   "outputs": [],
   "source": [
    "# Scale by the number of events in Really Relaxed Event Selection.\n",
    "h2_nlooseleps_vs_ntightleps_evtsel_cjlst = h2_nlooseleps_vs_ntightleps_evtsel_cjlst.Clone()\n",
    "h2_nlooseleps_vs_ntightleps_cjlst_evtsel_normtorelaxed = h2_nlooseleps_vs_ntightleps_evtsel_cjlst.Divide(h2_nlooseleps_vs_ntightleps_reallyrelaxed)\n",
    "h2_nlooseleps_vs_ntightleps_cjlst_evtsel_normtorelaxed.Scale(100.0)"
   ]
  },
  {
   "cell_type": "code",
   "execution_count": null,
   "metadata": {},
   "outputs": [],
   "source": [
    "    #--- Save/Open 2-D hists. ---#\n",
    "    f_new = TFile.Open(\"h2_nlooseleps_vs_ntightleps_evtsel_cjlst.root\", \"recreate\")\n",
    "    h2_nlooseleps_vs_ntightleps_evtsel_cjlst.Write()\n",
    "    f_new.Close()"
   ]
  },
  {
   "cell_type": "markdown",
   "metadata": {},
   "source": [
    "## RedBkg Event Selection: Really Relaxed\n",
    "\n",
    "Making a quick TH2 to count events with:\n",
    "\n",
    "- n_leps = 4\n",
    "- sum(charge) = sum(flavors) = 0\n",
    "- m(4l) > 70 GeV"
   ]
  },
  {
   "cell_type": "code",
   "execution_count": null,
   "metadata": {},
   "outputs": [],
   "source": [
    "\"\"\"Quick code to make a TH2 with lepton counts.\n",
    "#============================================================================\n",
    "# Purpose: Apply \"Really Relaxed Event Selection\" on 2018 Data sample to\n",
    "#          count how many loose leptons vs. tight leptons we get per event.\n",
    "# Notes:   Really Relaxed Event Selection:\n",
    "#          - n_leps = 4\n",
    "#          - sum(charge) = sum(flavors) = 0\n",
    "#          - m(4l) > 70 GeV\n",
    "# Author:  Jake Rosenzweig\n",
    "# Created: 2021-11-24\n",
    "#=============================================================================\n",
    "\"\"\"\n",
    "fill_2dhists = 1\n",
    "save_2dhists = 1\n",
    "\n",
    "h2_nlooseleps_vs_ntightleps_reallyrelaxed.Reset()\n",
    "h2_nlooseleps_vs_ntightleps_reallyrelaxed_normto4levts.Reset()\n",
    "\n",
    "# Counters.\n",
    "n_leps_ne4 = 0\n",
    "n_sumFC_ne0 = 0\n",
    "n_nomuon_or_noelec = 0\n",
    "n_m4l_lt70 = 0\n",
    "n_good_reallyrelaxed_evts = 0\n",
    "\n",
    "n_tot = t_filippo_data2018.GetEntries()\n",
    "\n",
    "if fill_2dhists:\n",
    "    for evt_num, evt in enumerate(t_filippo_data2018):\n",
    "        print_periodic_evtnum(evt_num, n_tot, print_every=500000)\n",
    "\n",
    "        if len(evt.lep_pt) != 4:\n",
    "            n_leps_ne4 += 1\n",
    "            continue\n",
    "\n",
    "        mylep_ls = make_filled_mylep_ls(evt)\n",
    "        fourlep_lorvec = mylep_ls[0].get_LorentzVector() + mylep_ls[1].get_LorentzVector() + mylep_ls[2].get_LorentzVector() + mylep_ls[3].get_LorentzVector()\n",
    "        m4l = fourlep_lorvec.M()\n",
    "        if m4l < 70:\n",
    "            n_m4l_lt70 += 1\n",
    "            continue\n",
    "\n",
    "        lep_id_ls = list(evt.lep_id)\n",
    "        if sum(lep_id_ls) != 0:\n",
    "            n_sumFC_ne0 += 1\n",
    "            continue\n",
    "\n",
    "        # Make sure there's at least 1 electron or 1 muon.\n",
    "        atleast_1eor1mu = any(x in lep_id_ls for x in (11, -11, 13, -13))\n",
    "        if not atleast_1eor1mu:\n",
    "            n_nomuon_or_noelec += 1\n",
    "            continue\n",
    "\n",
    "        # Good event!\n",
    "        n_good_reallyrelaxed_evts += 1\n",
    "\n",
    "        n_leps_loose = sum(lep.is_loose for lep in mylep_ls)\n",
    "        n_leps_tight = sum(lep.is_tight for lep in mylep_ls)\n",
    "    \n",
    "        h2_nlooseleps_vs_ntightleps_reallyrelaxed.Fill(n_leps_tight, n_leps_loose, 1)\n",
    "    \n",
    "    # Scale by the total number of events with exactly 4 leptons.\n",
    "    n_tot_4levts = t_filippo_data2018.GetEntries(\"Length$(lep_pt) == 4\")\n",
    "    h2_nlooseleps_vs_ntightleps_reallyrelaxed_normto4levts = h2_nlooseleps_vs_ntightleps_reallyrelaxed.Clone()\n",
    "    h2_nlooseleps_vs_ntightleps_reallyrelaxed_normto4levts.SetName(\"h2_nlooseleps_vs_ntightleps_reallyrelaxed_normto4levts\")\n",
    "    h2_nlooseleps_vs_ntightleps_reallyrelaxed_normto4levts.SetTitle(\"Really Relaxed Event Selection (norm. to num. 4l evts)\")\n",
    "    h2_nlooseleps_vs_ntightleps_reallyrelaxed_normto4levts.Scale(100.0 / n_tot_4levts)\n",
    "\n",
    "if save_2dhists:\n",
    "    #--- Save/Open 2-D hists. ---#\n",
    "    f_new = TFile.Open(\"h2_nlooseleps_vs_ntightleps_reallyrelaxed.root\", \"recreate\")\n",
    "    h2_nlooseleps_vs_ntightleps_reallyrelaxed.Write()\n",
    "    h2_nlooseleps_vs_ntightleps_reallyrelaxed_normto4levts.Write()\n",
    "    f_new.Close()\n",
    "    print(\"Saved 2-D Hists.\")"
   ]
  },
  {
   "cell_type": "code",
   "execution_count": null,
   "metadata": {},
   "outputs": [],
   "source": [
    "f_relax = TFile.Open(\"h2_nlooseleps_vs_ntightleps_reallyrelaxed.root\", \"read\")\n",
    "h2_nlooseleps_vs_ntightleps_reallyrelaxed = f_relax.Get(\"h2_nlooseleps_vs_ntightleps_reallyrelaxed\")\n",
    "h2_nlooseleps_vs_ntightleps_reallyrelaxed_normto4levts = f_relax.Get(\"h2_nlooseleps_vs_ntightleps_reallyrelaxed_normto4levts\")\n",
    "#     h2_nlooseleps_vs_ntightleps_reallyrelaxed.SetDirectory(0)\n",
    "#     h2_nlooseleps_vs_ntightleps_reallyrelaxed_normto4levts.SetDirectory(0)\n",
    "#     f_new.Close()\n",
    "print(\"Opened 2-D Hists.\")"
   ]
  },
  {
   "cell_type": "code",
   "execution_count": null,
   "metadata": {},
   "outputs": [],
   "source": [
    "canv, pave = draw_th2(h2_nlooseleps_vs_ntightleps_reallyrelaxed_normto4levts, as_percent=True, z_max=22, , selec=\"relax\")"
   ]
  },
  {
   "cell_type": "code",
   "execution_count": null,
   "metadata": {},
   "outputs": [],
   "source": [
    "canv.Draw()"
   ]
  },
  {
   "cell_type": "markdown",
   "metadata": {},
   "source": [
    "### Interesting Events:\n",
    "\n",
    "- Event 47 has two Z candidates.\n",
    "- Event 179 has three Z candidates.\n",
    "- Event 2896 has one ZZ candidate.\n",
    "- Event 3751 has 2 ZZ cands, 6 Z cands, and 5 same flavor leps.\n",
    "- Event 16324 fails smart cut.\n",
    "- Event 72390 has 2 valid Z bosons.\n",
    "- Event 547143 has 6 Z cands, 5 same flavor leps, of which 3 leps are tight."
   ]
  },
  {
   "cell_type": "markdown",
   "metadata": {},
   "source": [
    "# Check Filippo's 2018 Data for CJLST's RedBkg Events"
   ]
  },
  {
   "cell_type": "code",
   "execution_count": 1,
   "metadata": {},
   "outputs": [
    {
     "ename": "ModuleNotFoundError",
     "evalue": "No module named 'sidequests'",
     "output_type": "error",
     "traceback": [
      "\u001b[0;31m---------------------------------------------------------------------------\u001b[0m",
      "\u001b[0;31mModuleNotFoundError\u001b[0m                       Traceback (most recent call last)",
      "\u001b[0;32m<ipython-input-1-a53c79fac1a3>\u001b[0m in \u001b[0;36m<module>\u001b[0;34m\u001b[0m\n\u001b[0;32m----> 1\u001b[0;31m \u001b[0;32mfrom\u001b[0m \u001b[0msidequests\u001b[0m\u001b[0;34m.\u001b[0m\u001b[0mdata\u001b[0m\u001b[0;34m.\u001b[0m\u001b[0mfilepaths\u001b[0m \u001b[0;32mimport\u001b[0m \u001b[0minfile_elisa_3p1f\u001b[0m\u001b[0;34m,\u001b[0m \u001b[0minfile_elisa_2p2f\u001b[0m\u001b[0;31m#, infile_filippo_data_2018\u001b[0m\u001b[0;34m\u001b[0m\u001b[0;34m\u001b[0m\u001b[0m\n\u001b[0m\u001b[1;32m      2\u001b[0m \u001b[0;32mfrom\u001b[0m \u001b[0msidequests\u001b[0m\u001b[0;34m.\u001b[0m\u001b[0mclasses\u001b[0m\u001b[0;34m.\u001b[0m\u001b[0mfilecomparer\u001b[0m \u001b[0;32mimport\u001b[0m \u001b[0mFileRunLumiEvent\u001b[0m\u001b[0;34m\u001b[0m\u001b[0;34m\u001b[0m\u001b[0m\n",
      "\u001b[0;31mModuleNotFoundError\u001b[0m: No module named 'sidequests'"
     ]
    }
   ],
   "source": [
    "from sidequests.data.filepaths import infile_elisa_3p1f, infile_elisa_2p2f#, infile_filippo_data_2018\n",
    "from sidequests.classes.filecomparer import FileComparer"
   ]
  },
  {
   "cell_type": "code",
   "execution_count": 5,
   "metadata": {},
   "outputs": [
    {
     "name": "stdout",
     "output_type": "stream",
     "text": [
      "Welcome to JupyROOT 6.20/04\n"
     ]
    }
   ],
   "source": [
    "infile_filippo_data_2018 = \"/cmsuf/data/store/user/t2/users/rosedj1/Samples/skim2L/Data/2018/fullstats/filippo/rootfiles/Data_2018_03Nov.root\"\n",
    "filippo_2018data_runlumievt_txt = \"/cmsuf/data/store/user/t2/users/rosedj1/ZplusXpython/sidequests/txt/filippo_2018data_runlumievt.txt\"\n",
    "\n",
    "# write_tree_info_to_txt(infile_filippo_data_2018, filippo_2018data_runlumievt_txt,\n",
    "#                            keep_2P2F=False, keep_3P1F=False, keep_all=True,\n",
    "#                            path_to_tree=\"passedEvents\", print_every=500000)\n",
    "\n",
    "fc_elisa3p1f_filippo2018 = FileComparer(infile_elisa_3p1f, filippo_2018data_runlumievt_txt,\n",
    "                                        control_reg=\"\", verbose=True)\n",
    "fc_elisa2p2f_filippo2018 = FileComparer(infile_elisa_2p2f, filippo_2018data_runlumievt_txt,\n",
    "                                        control_reg=\"\", verbose=True)\n",
    "\n",
    "len(fc_elisa3p1f_filippo2018.set_common_to_both)  # 4786.\n",
    "len(fc_elisa2p2f_filippo2018.set_common_to_both)  # 45708.\n",
    "# CONCLUSION:\n",
    "# In filippo's 2018 Data root file,\n",
    "# We have 4786 out of Elisa's 4805 3P1F events (missing 19 events)."
   ]
  },
  {
   "cell_type": "markdown",
   "metadata": {},
   "source": [
    "## Conclusion Thus Far\n",
    "\n",
    "Most of CJLST's events exist within Filippo's 2018 Data root file:\n",
    "\n",
    "| CR | BBF / CJLST | Number of Missing Events | \n",
    "| --- | --- | --- |\n",
    "| 3P1F | 4786 / 4805| 19 |\n",
    "| 2P2F | 45708 / 46066 | 358 |\n",
    "\n",
    "I currently select this many events:\n",
    "\n",
    "| CR |  / Total | Number of Missing Events | \n",
    "| --- | --- | --- |\n",
    "| 3P1F | 3008 / 4786 | 1778 |\n",
    "| 2P2F | 34425 / 45708 | 11283 |\n",
    "\n",
    "So now the question is:\n",
    "\n",
    "- *Why doesn't my implementation of the CJLST RedBkg event selection FIND those events?*"
   ]
  },
  {
   "cell_type": "markdown",
   "metadata": {},
   "source": [
    "## Where to go from here?\n",
    "\n",
    "Since I am finding ~3000 3P1F events when I should easily be finding ~4150 (super old number),\n",
    "I need to take events (one-by-one) which CJLST has identified as GOOD 3P1F and make sure\n",
    "that my own CJLST evt selection also accepts those events.\n",
    "\n",
    "- While lying in bed, I realized that I'm only seeing 66% of the events because **I'm only selecting events with `n_leps == 4`**!"
   ]
  },
  {
   "cell_type": "markdown",
   "metadata": {},
   "source": [
    "## Select 3P1F/2P2F events in which `n_leps >= 4`\n",
    "\n",
    "So for a 5 lep event in which 2 leptons are loose and 3 are tight, there may be up to three different 2P2F combinations _within this single event_."
   ]
  },
  {
   "cell_type": "markdown",
   "metadata": {},
   "source": [
    "### Focus on 2P2F selection first since it's easier\n",
    "\n",
    "- [ ] Do we select all 45708 available 2P2F events?"
   ]
  }
 ],
 "metadata": {
  "kernelspec": {
   "display_name": "my_root_env",
   "language": "python",
   "name": "my_root_env"
  },
  "language_info": {
   "codemirror_mode": {
    "name": "ipython",
    "version": 3
   },
   "file_extension": ".py",
   "mimetype": "text/x-python",
   "name": "python",
   "nbconvert_exporter": "python",
   "pygments_lexer": "ipython3",
   "version": "3.8.2"
  },
  "toc-autonumbering": true
 },
 "nbformat": 4,
 "nbformat_minor": 4
}
