{
 "cells": [
  {
   "cell_type": "code",
   "execution_count": null,
   "metadata": {},
   "outputs": [],
   "source": [
    "from data.filepaths import infile_matteo_data2018\n",
    "\n",
    "# t_matteo_up = uproot.open(f\"root://eoscms.cern.ch/{infile_matteo_data2018}:CRZLLTree/candTree\", timeout=180)\n",
    "# runnum_arr = t_matteo_up[\"RunNumber\"].array(library=\"np\")"
   ]
  },
  {
   "cell_type": "markdown",
   "metadata": {},
   "source": [
    "# Make txt files of events."
   ]
  },
  {
   "cell_type": "code",
   "execution_count": null,
   "metadata": {},
   "outputs": [],
   "source": [
    "write_tree_info_to_txt(infile_jake_tree, infile_jake_2p2f, keep_2P2F=True, keep_3P1F=False)\n",
    "write_tree_info_to_txt(infile_jake_tree, infile_jake_3p1f, keep_2P2F=False, keep_3P1F=True)\n",
    "cmsuf_rosedj1/ZplusXpython/sidequests/scripts/view_cjlst_event_on_lxplus.py"
   ]
  }
 ],
 "metadata": {
  "kernelspec": {
   "display_name": "my_root_env",
   "language": "python",
   "name": "my_root_env"
  },
  "language_info": {
   "codemirror_mode": {
    "name": "ipython",
    "version": 3
   },
   "file_extension": ".py",
   "mimetype": "text/x-python",
   "name": "python",
   "nbconvert_exporter": "python",
   "pygments_lexer": "ipython3",
   "version": "3.8.2"
  }
 },
 "nbformat": 4,
 "nbformat_minor": 4
}
