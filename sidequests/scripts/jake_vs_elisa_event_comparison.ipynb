{
 "metadata": {
  "language_info": {
   "codemirror_mode": {
    "name": "ipython",
    "version": 3
   },
   "file_extension": ".py",
   "mimetype": "text/x-python",
   "name": "python",
   "nbconvert_exporter": "python",
   "pygments_lexer": "ipython3",
   "version": "3.9.7-final"
  },
  "orig_nbformat": 2,
  "kernelspec": {
   "name": "python39764bitff2fc1cb6fc84e44b188f6ac2625a009",
   "display_name": "Python 3.9.7 64-bit"
  }
 },
 "nbformat": 4,
 "nbformat_minor": 2,
 "cells": [
  {
   "cell_type": "markdown",
   "metadata": {},
   "source": [
    "## Analyzer for Elisa's 3P1F and 2P2F event lists and for CJLST NTuples."
   ]
  },
  {
   "cell_type": "code",
   "execution_count": 31,
   "metadata": {},
   "outputs": [],
   "source": [
    "import os\n",
    "import sys\n",
    "import numpy as np\n",
    "# import ROOT as rt\n",
    "from pprint import pprint\n",
    "from collections import Counter\n",
    "\n",
    "# top_dir = \"/afs/cern.ch/work/d/drosenzw/zplusx/ZplusXpython/\"\n",
    "# sys.path.append(top_dir)\n",
    "\n",
    "top_dir = \"/afs/cern.ch/work/d/drosenzw/zplusx/\"\n",
    "# _ = [sys.path.append(sys.path.join(top_dir, package)) for package in (\"HiggsMassMeasurement\", \"ZplusXpython\")]\n",
    "# from Utils_Python.Utils_Files import check_overwrite\n",
    "from sidequests.data.cjlst_fw import CjlstFlag"
   ]
  },
  {
   "cell_type": "code",
   "execution_count": 2,
   "metadata": {},
   "outputs": [],
   "source": [
    "def write_tree_info_to_txt(infile, outtxt, keep_2P2F=True, keep_3P1F=True):\n",
    "    \"\"\"\n",
    "    Write info from TFile `infile` from TTree 'passedEvents' to `outtxt`.\n",
    "\n",
    "    Info which gets written:\n",
    "    Run : LumiSect : Event\n",
    "    \"\"\"\n",
    "    tfile = rt.TFile.Open(infile)\n",
    "    tree = tfile.Get(\"passedEvents\")\n",
    "\n",
    "    with open(outtxt, \"w\") as f:\n",
    "        f.write(\"# Run : LumiSect : Event\\n\")\n",
    "        for evt in tree:\n",
    "            keep_evt = True if (keep_2P2F and evt.is2P2F) or (keep_3P1F and evt.is3P1F) else False\n",
    "            if keep_evt:\n",
    "                f.write(f\"{evt.Run} : {evt.LumiSect} : {evt.Event}\\n\")\n",
    "    print(f\"TTree info written to:\\n{outtxt}\")\n",
    " \n",
    "def get_list_of_lines(evt_ls_txt):\n",
    "    \"\"\"\n",
    "    Return a list of the lines from `evt_ls_txt`.\n",
    "    The lines must start with a digit.\n",
    "    Trailing newlines ('\\\\n') are stripped.\n",
    "    \"\"\"\n",
    "    with open(evt_ls_txt, \"r\") as f:\n",
    "        return [line.rstrip('\\n') for line in f.readlines() if line[0].isdigit()]\n",
    "\n",
    "def get_list_of_tuples(evt_ls):\n",
    "    \"\"\"\n",
    "    Return a list of 3-tuples from a list of strings `evt_ls`:\n",
    "\n",
    "    [\n",
    "        (Run1, LumiSect1, Event1),\n",
    "        (Run2, LumiSect2, Event2),\n",
    "        ...\n",
    "    ]\n",
    "    \"\"\"\n",
    "    new_evt_ls = []\n",
    "    for line in evt_ls:\n",
    "        tup = tuple([int(num) for num in line.split(\":\")])\n",
    "        new_evt_ls.append(tup)\n",
    "    return new_evt_ls"
   ]
  },
  {
   "cell_type": "code",
   "execution_count": 3,
   "metadata": {},
   "outputs": [],
   "source": [
    "class FileComparer:\n",
    "\n",
    "    def __init__(self, txt_file1, txt_file2, control_reg=\"\", verbose=False):\n",
    "        \"\"\"\n",
    "        Feed in two txt files to be compared.\n",
    "\n",
    "        NOTE:\n",
    "        - Each txt file is converted to a list of 3-tuples and stored.\n",
    "        - Only lines which begin with a digit are read and stored.\n",
    "\n",
    "        Parameters\n",
    "        ----------\n",
    "        control_reg : str\n",
    "            Used for printing and writing files.\n",
    "        \"\"\"\n",
    "        self.file1 = txt_file1\n",
    "        self.file2 = txt_file2\n",
    "        self.cr = control_reg\n",
    "        self.verbose = verbose\n",
    "\n",
    "        self.check_cr(txt_file1, txt_file2)\n",
    "        if control_reg in \"\":\n",
    "            self.cr = \"all\"\n",
    "        self.ls_of_tup_file1_nodup = None\n",
    "        self.ls_of_tup_file2_nodup = None\n",
    "\n",
    "        # Check for duplicates.\n",
    "        self.ls_of_tup_file1 = get_list_of_tuples(get_list_of_lines(txt_file1))\n",
    "        if self.check_for_dups(txt_file1, self.ls_of_tup_file1):\n",
    "            # Remove duplicates by turning to a set and then back to list.\n",
    "            self.ls_of_tup_file1_nodup = list(set(self.ls_of_tup_file1))\n",
    "        else:\n",
    "            self.ls_of_tup_file1_nodup = self.ls_of_tup_file1\n",
    "\n",
    "        self.ls_of_tup_file2 = get_list_of_tuples(get_list_of_lines(txt_file2))\n",
    "        if self.check_for_dups(txt_file2, self.ls_of_tup_file2):\n",
    "            self.ls_of_tup_file2_nodup = list(set(self.ls_of_tup_file2))\n",
    "        else:\n",
    "            self.ls_of_tup_file2_nodup = self.ls_of_tup_file2\n",
    "\n",
    "        self.compare_files()\n",
    "\n",
    "    def check_for_dups(self, txt_file, ls_of_tup):\n",
    "        \"\"\"Return True and print info if duplicates within a file are found.\"\"\"\n",
    "        len_ls = len(ls_of_tup)\n",
    "        len_set = len(set(ls_of_tup))\n",
    "        if len_ls != len_set:\n",
    "            n_dups = len_ls - len_set\n",
    "            print(f\"[WARNING] Duplicates ({n_dups}) found in file: {txt_file}\")\n",
    "            print(f\"[WARNING] len(ls)={len_ls} != len(set)={len_set}\")\n",
    "            if self.verbose:\n",
    "                # There's some counting error here...\n",
    "                # I know there are 120 duplicates, but counter only finds 118.\n",
    "                counter = Counter(ls_of_tup)\n",
    "                print(f\"Printing duplicates in file:\\n{txt_file}\")\n",
    "                dup_key_ls = [k for k,v in counter.items() if v > 1]\n",
    "                # pprint(dup_key_ls)\n",
    "                # assert n_dups == len(dup_key_ls)\n",
    "                pprint(dup_key_ls)\n",
    "            return True\n",
    "        return False\n",
    "\n",
    "    def check_cr(self, path1, path2):\n",
    "        \"\"\"Make sure that the control region is the one requested.\"\"\"\n",
    "        cr_low = self.cr.lower()\n",
    "        assert cr_low in (\"2p2f\", \"3p1f\", \"\")\n",
    "        # Make sure that the two files have the requested CR.\n",
    "        msg = f\"The `control_reg` ({self.cr}) not found in names of txt files.\"\n",
    "        assert all(cr_low in f.lower() for f in (path1, path2)), msg\n",
    "\n",
    "    def compare_files(self):\n",
    "        \"\"\"Store unique and common info about files. Called when instantiated.\"\"\"\n",
    "        self.set_common_to_both = set(self.ls_of_tup_file1_nodup) & set(self.ls_of_tup_file2_nodup)\n",
    "        self.set_unique_to_file1 = set(self.ls_of_tup_file1_nodup) - set(self.ls_of_tup_file2_nodup)\n",
    "        self.set_unique_to_file2 = set(self.ls_of_tup_file2_nodup) - set(self.ls_of_tup_file1_nodup)\n",
    "\n",
    "    def print_results(self, whose=\"all\", show_n_evts=25, save_to_file=None):\n",
    "        \"\"\"Print info describing differences between two files.\n",
    "        \n",
    "        Parameters\n",
    "        ----------\n",
    "        whose : str\n",
    "            \"file1\", \"file2\", \"all\"\n",
    "        \"\"\"\n",
    "        print(f\"Comparing {self.cr.upper()}:\")\n",
    "        print(f\"file1: {self.file1}\")\n",
    "        print(f\"file2: {self.file2}\")\n",
    "\n",
    "        print(f\"{'n_evts total file1 (no dup): ':<25}{len(self.ls_of_tup_file1_nodup)}\")\n",
    "        print(f\"{'n_evts total file2 (no dup): ':<25}{len(self.ls_of_tup_file2_nodup)}\")\n",
    "        print(f\"{'n_evts in common: ':<25}{len(self.set_common_to_both)}\")\n",
    "        print(f\"{'n_evts unique to file1: ':<25}{len(self.set_unique_to_file1)}\")\n",
    "        print(f\"{'n_evts unique to file2: ':<25}{len(self.set_unique_to_file2)}\")\n",
    "\n",
    "        header = \"#-- Run -- LumiSect -- Event --#\"\n",
    "        if show_n_evts == -1:\n",
    "            show_n_evts = None\n",
    "        if whose in (\"file1\", \"all\"):\n",
    "            print(f\"  file1's unique events:\")\n",
    "            print(header)\n",
    "            pprint(list(self.set_unique_to_file1)[:show_n_evts])\n",
    "            print()\n",
    "        if whose in (\"file2\", \"all\"):\n",
    "            print(f\"  file2's unique events:\")\n",
    "            print(header)\n",
    "            pprint(list(self.set_unique_to_file2)[:show_n_evts])\n",
    "            print()\n",
    "\n",
    "    def save_events_to_txt(self, kind, outtxt, no_dup=True, overwrite=False):\n",
    "        \"\"\"\n",
    "        Write the events to `outtxt` in the format:\n",
    "\n",
    "        Run : LumiSect : Event\n",
    "\n",
    "        Parameters\n",
    "        ----------\n",
    "        kind : str\n",
    "            Choose which events to write to `outtxt`.\n",
    "            \"file1\", \"file2\", \"common\", \"file1_unique\", \"file2_unique\"\n",
    "        \"\"\"\n",
    "        check_overwrite(outtxt, overwrite=overwrite)\n",
    "        assert kind in (\"file1\", \"file2\", \"common\", \"file1_unique\", \"file2_unique\")\n",
    "\n",
    "        if kind in \"file1\":\n",
    "            iter_ls_of_tup = self.ls_of_tup_file1_nodup if no_dup else self.ls_of_tup_file1\n",
    "        elif kind in \"file2\":\n",
    "            iter_ls_of_tup = self.ls_of_tup_file2_nodup if no_dup else self.ls_of_tup_file2\n",
    "        elif kind in \"common\":\n",
    "            iter_ls_of_tup = self.set_common_to_both\n",
    "        elif kind in \"file1_unique\":\n",
    "            iter_ls_of_tup = self.set_unique_to_file1\n",
    "        elif kind in \"file2_unique\":\n",
    "            iter_ls_of_tup = self.set_unique_to_file2\n",
    "\n",
    "        with open(outtxt, \"w\") as f:\n",
    "            f.write(\"# Run : LumiSect : Event\\n\")\n",
    "            for tup in iter_ls_of_tup:\n",
    "                f.write(f\"{tup[0]} : {tup[1]} : {tup[2]}\\n\")\n",
    "            print(f\"Wrote '{self.cr} {kind}' events to file:\\n{outtxt}\")"
   ]
  },
  {
   "cell_type": "code",
   "execution_count": 4,
   "metadata": {},
   "outputs": [],
   "source": [
    "# infile_jake_tree = \"/blue/avery/rosedj1/ZplusXpython/data/ZLL_CR_FRapplied/Data_2018_NoDuplicates_RunEventLumi.root\"\n",
    "infile_jake_tree = \"/blue/avery/rosedj1/ZplusXpython/data/ZLL_CR_FRapplied/new_data2018/cr_ZLL.root\"\n",
    "\n",
    "#####################\n",
    "#--- CJLST files ---#\n",
    "#####################\n",
    "infile_elisa       = \"/blue/avery/rosedj1/ZplusXpython/sidequests/findmissingevents_comparetoelisa/CRLLos_listOfEvents.txt\"\n",
    "infile_elisa_2p2f  = \"/blue/avery/rosedj1/ZplusXpython/sidequests/findmissingevents_comparetoelisa/CRLLos_2P2F_listOfEvents.txt\"\n",
    "infile_elisa_3p1f  = \"/blue/avery/rosedj1/ZplusXpython/sidequests/findmissingevents_comparetoelisa/CRLLos_3P1F_listOfEvents.txt\"\n",
    "infile_matteo_data2018 = \"/eos/cms/store/group/phys_higgs/cmshzz4l/cjlst/RunIILegacy/200430_LegacyRun2/Data_2018/AllData/ZZ4lAnalysis.root\"\n",
    "\n",
    "outdir = \"/blue/avery/rosedj1/ZplusXpython/sidequests/findmissingevents_comparetoelisa/jakes_new2018data/\"\n",
    "\n",
    "infile_jake      = os.path.join(outdir, \"CRLLos_listOfEvents_jake.txt\")\n",
    "infile_jake_2p2f = os.path.join(outdir, \"CRLLos_listOfEvents_jake_2P2F.txt\")\n",
    "infile_jake_3p1f = os.path.join(outdir, \"CRLLos_listOfEvents_jake_3P1F.txt\")\n",
    "\n",
    "outfile_elisa_2p2f_unique  = os.path.join(outdir, \"CRLLos_2P2F_listOfEvents_unique.txt\")\n",
    "outfile_elisa_3p1f_unique  = os.path.join(outdir, \"CRLLos_3P1F_listOfEvents_unique.txt\")\n",
    "outfile_jake_2p2f_unique = os.path.join(outdir, \"CRLLos_listOfEvents_jake_2P2F_unique.txt\")\n",
    "outfile_jake_3p1f_unique = os.path.join(outdir, \"CRLLos_listOfEvents_jake_3P1F_unique.txt\")\n",
    "outfile_LLR_data2018 = \"/blue/avery/rosedj1/ZplusXpython/sidequests/findmissingevents_comparetoelisa/\"\n",
    "\n",
    "outfile_2p2f_common = os.path.join(outdir, \"CRLLos_listOfEvents_2P2F_common.txt\")\n",
    "outfile_3p1f_common = os.path.join(outdir, \"CRLLos_listOfEvents_3P1F_common.txt\")\n",
    "# write_tree_info_to_txt(infile_jake_tree, infile_jake)"
   ]
  },
  {
   "cell_type": "markdown",
   "metadata": {},
   "source": [
    "## Make txt files of events."
   ]
  },
  {
   "cell_type": "code",
   "execution_count": 9,
   "metadata": {},
   "outputs": [
    {
     "output_type": "stream",
     "name": "stdout",
     "text": [
      "TTree info written to:\n",
      "/blue/avery/rosedj1/ZplusXpython/sidequests/findmissingevents_comparetoelisa/jakes_new2018data/CRLLos_listOfEvents_jake_2P2F.txt\n",
      "TTree info written to:\n",
      "/blue/avery/rosedj1/ZplusXpython/sidequests/findmissingevents_comparetoelisa/jakes_new2018data/CRLLos_listOfEvents_jake_3P1F.txt\n"
     ]
    }
   ],
   "source": [
    "write_tree_info_to_txt(infile_jake_tree, infile_jake_2p2f, keep_2P2F=True, keep_3P1F=False)\n",
    "write_tree_info_to_txt(infile_jake_tree, infile_jake_3p1f, keep_2P2F=False, keep_3P1F=True)"
   ]
  },
  {
   "cell_type": "markdown",
   "metadata": {},
   "source": [
    "## Compare files."
   ]
  },
  {
   "cell_type": "code",
   "execution_count": 5,
   "metadata": {},
   "outputs": [
    {
     "output_type": "stream",
     "name": "stdout",
     "text": [
      "[WARNING] Duplicates (1) found in file: /blue/avery/rosedj1/ZplusXpython/sidequests/findmissingevents_comparetoelisa/CRLLos_2P2F_listOfEvents.txt\n[WARNING] len(ls)=46067 != len(set)=46066\n[WARNING] Duplicates (1) found in file: /blue/avery/rosedj1/ZplusXpython/sidequests/findmissingevents_comparetoelisa/CRLLos_3P1F_listOfEvents.txt\n[WARNING] len(ls)=4806 != len(set)=4805\n"
     ]
    }
   ],
   "source": [
    "fc_elisa_2p2fvs3p1f = FileComparer(infile_elisa_2p2f, infile_elisa_3p1f)"
   ]
  },
  {
   "cell_type": "code",
   "execution_count": 6,
   "metadata": {},
   "outputs": [
    {
     "output_type": "execute_result",
     "data": {
      "text/plain": [
       "{(315357, 120, 90263024),\n",
       " (315357, 582, 474271871),\n",
       " (315420, 147, 111359074),\n",
       " (315420, 1017, 671153361),\n",
       " (315512, 947, 703286863),\n",
       " (315645, 174, 181433236),\n",
       " (315764, 252, 345190884),\n",
       " (315840, 794, 913785809),\n",
       " (315840, 973, 1072588622),\n",
       " (316060, 480, 497131326),\n",
       " (316114, 416, 428493934),\n",
       " (316114, 893, 891656605),\n",
       " (316114, 1293, 1312567745),\n",
       " (316199, 860, 1188017841),\n",
       " (316239, 543, 672514410),\n",
       " (316457, 1310, 1472332465),\n",
       " (316569, 1369, 1879123903),\n",
       " (316590, 436, 591724376),\n",
       " (316701, 284, 408489512),\n",
       " (316766, 1884, 2594040013),\n",
       " (317087, 718, 952431980),\n",
       " (317182, 530, 685103194),\n",
       " (317182, 866, 1209428434),\n",
       " (317297, 524, 829605824),\n",
       " (317320, 1263, 1875457729),\n",
       " (317392, 1137, 1604619521),\n",
       " (317392, 1222, 1734755160),\n",
       " (317527, 1391, 1992720836),\n",
       " (317626, 234, 322598287),\n",
       " (317626, 306, 427271140),\n",
       " (317648, 58, 48360780),\n",
       " (317683, 199, 255555243),\n",
       " (319526, 35, 61882137),\n",
       " (319579, 238, 295829669),\n",
       " (319579, 2200, 3454641909),\n",
       " (319639, 100, 117898040),\n",
       " (319849, 465, 778725049),\n",
       " (319853, 139, 220864884),\n",
       " (319993, 134, 221669019),\n",
       " (320674, 307, 170248938),\n",
       " (320757, 371, 532438291),\n",
       " (320804, 268, 375885671),\n",
       " (320840, 46, 74415542),\n",
       " (320916, 10, 6335790),\n",
       " (320933, 121, 140475077),\n",
       " (321006, 28, 49963457),\n",
       " (321119, 114, 120082403),\n",
       " (321149, 1109, 1665036813),\n",
       " (321219, 392, 580167253),\n",
       " (321305, 1290, 2038696638),\n",
       " (321414, 33, 27367239),\n",
       " (321414, 398, 674166002),\n",
       " (321415, 95, 154493574),\n",
       " (321461, 7, 10387487),\n",
       " (321475, 1970, 3026368001),\n",
       " (321730, 206, 375294561),\n",
       " (321755, 476, 725778095),\n",
       " (321817, 310, 546510724),\n",
       " (321820, 42, 65638996),\n",
       " (321831, 482, 846096735),\n",
       " (321887, 96, 88365466),\n",
       " (321887, 684, 1132742251),\n",
       " (321909, 354, 601078236),\n",
       " (321917, 186, 325919725),\n",
       " (321961, 96, 176415136),\n",
       " (321961, 151, 275766823),\n",
       " (321988, 867, 1538625217),\n",
       " (321988, 1187, 2087171876),\n",
       " (322022, 757, 1317925848),\n",
       " (322022, 809, 1405591998),\n",
       " (322022, 1382, 2373710325),\n",
       " (322068, 149, 201308324),\n",
       " (322068, 193, 284310102),\n",
       " (322079, 158, 253915549),\n",
       " (322179, 583, 1012047584),\n",
       " (322222, 441, 807916758),\n",
       " (322252, 417, 709787181),\n",
       " (322252, 940, 1642051369),\n",
       " (322348, 149, 229893382),\n",
       " (322348, 851, 1539184753),\n",
       " (322356, 77, 149212248),\n",
       " (322381, 327, 542098054),\n",
       " (322381, 519, 907098290),\n",
       " (322480, 130, 137885914),\n",
       " (322492, 48, 80566428),\n",
       " (322625, 239, 379085701),\n",
       " (322625, 818, 1450146494),\n",
       " (323488, 359, 656231860),\n",
       " (323525, 122, 215795461),\n",
       " (323525, 527, 912578885),\n",
       " (323526, 232, 347969579),\n",
       " (323526, 353, 510635749),\n",
       " (323696, 135, 260891538),\n",
       " (323702, 406, 720281595),\n",
       " (323727, 842, 1514329429),\n",
       " (323778, 140, 272660658),\n",
       " (323778, 151, 292668498),\n",
       " (323794, 47, 88131102),\n",
       " (323857, 207, 379124515),\n",
       " (323940, 1163, 2139020729),\n",
       " (323940, 1219, 2239952998),\n",
       " (323976, 58, 64318211),\n",
       " (323983, 79, 159794391),\n",
       " (324201, 102, 162862016),\n",
       " (324201, 193, 353694954),\n",
       " (324293, 463, 847164031),\n",
       " (324293, 858, 1592058106),\n",
       " (324293, 2087, 3682685735),\n",
       " (324420, 87, 182974077),\n",
       " (324729, 66, 83260427),\n",
       " (324791, 89, 161882255),\n",
       " (324835, 215, 346223485),\n",
       " (324841, 978, 1803985632),\n",
       " (324980, 142, 200384798),\n",
       " (324980, 359, 627599348),\n",
       " (324980, 2285, 3999459811),\n",
       " (325117, 461, 787028149),\n",
       " (325170, 258, 484838032)}"
      ]
     },
     "metadata": {},
     "execution_count": 6
    }
   ],
   "source": [
    "fc_elisa_2p2fvs3p1f.set_common_to_both"
   ]
  },
  {
   "cell_type": "code",
   "execution_count": 35,
   "metadata": {
    "tags": []
   },
   "outputs": [
    {
     "output_type": "stream",
     "name": "stdout",
     "text": [
      "[WARNING] Duplicates (1) found in file: /blue/avery/rosedj1/ZplusXpython/sidequests/findmissingevents_comparetoelisa/CRLLos_3P1F_listOfEvents.txt\n",
      "[WARNING] len(ls)=4806 != len(set)=4805\n",
      "Printing duplicates in file:\n",
      "/blue/avery/rosedj1/ZplusXpython/sidequests/findmissingevents_comparetoelisa/CRLLos_3P1F_listOfEvents.txt\n",
      "[(315512, 947, 703286863)]\n",
      "[WARNING] Duplicates (1) found in file: /blue/avery/rosedj1/ZplusXpython/sidequests/findmissingevents_comparetoelisa/CRLLos_2P2F_listOfEvents.txt\n",
      "[WARNING] len(ls)=46067 != len(set)=46066\n",
      "Printing duplicates in file:\n",
      "/blue/avery/rosedj1/ZplusXpython/sidequests/findmissingevents_comparetoelisa/CRLLos_2P2F_listOfEvents.txt\n",
      "[(315512, 947, 703286863)]\n",
      "[WARNING] Duplicates (120) found in file: /blue/avery/rosedj1/ZplusXpython/sidequests/findmissingevents_comparetoelisa/CRLLos_listOfEvents.txt\n",
      "[WARNING] len(ls)=50873 != len(set)=50753\n",
      "Printing duplicates in file:\n",
      "/blue/avery/rosedj1/ZplusXpython/sidequests/findmissingevents_comparetoelisa/CRLLos_listOfEvents.txt\n",
      "[(316114, 416, 428493934),\n",
      " (315645, 174, 181433236),\n",
      " (315764, 252, 345190884),\n",
      " (316199, 860, 1188017841),\n",
      " (316239, 543, 672514410),\n",
      " (316766, 1884, 2594040013),\n",
      " (316590, 436, 591724376),\n",
      " (316060, 480, 497131326),\n",
      " (315840, 973, 1072588622),\n",
      " (316569, 1369, 1879123903),\n",
      " (315420, 1017, 671153361),\n",
      " (317626, 234, 322598287),\n",
      " (317626, 306, 427271140),\n",
      " (317392, 1137, 1604619521),\n",
      " (317182, 866, 1209428434),\n",
      " (317320, 1263, 1875457729),\n",
      " (317392, 1222, 1734755160),\n",
      " (319993, 134, 221669019),\n",
      " (319849, 465, 778725049),\n",
      " (324201, 102, 162862016),\n",
      " (324791, 89, 161882255),\n",
      " (324729, 66, 83260427),\n",
      " (324841, 978, 1803985632),\n",
      " (324980, 2285, 3999459811),\n",
      " (324980, 359, 627599348),\n",
      " (320757, 371, 532438291),\n",
      " (321006, 28, 49963457),\n",
      " (321119, 114, 120082403),\n",
      " (321219, 392, 580167253),\n",
      " (320804, 268, 375885671),\n",
      " (321149, 1109, 1665036813),\n",
      " (321461, 7, 10387487),\n",
      " (321475, 1970, 3026368001),\n",
      " (321414, 398, 674166002),\n",
      " (321755, 476, 725778095),\n",
      " (321887, 96, 88365466),\n",
      " (321817, 310, 546510724),\n",
      " (321820, 42, 65638996),\n",
      " (321961, 151, 275766823),\n",
      " (321961, 96, 176415136),\n",
      " (321988, 867, 1538625217),\n",
      " (322068, 193, 284310102),\n",
      " (322348, 149, 229893382),\n",
      " (322348, 851, 1539184753),\n",
      " (322381, 519, 907098290),\n",
      " (322179, 583, 1012047584),\n",
      " (322222, 441, 807916758),\n",
      " (322252, 417, 709787181),\n",
      " (322252, 940, 1642051369),\n",
      " (323488, 359, 656231860),\n",
      " (323526, 232, 347969579),\n",
      " (323696, 135, 260891538),\n",
      " (323727, 842, 1514329429),\n",
      " (323778, 151, 292668498),\n",
      " (324420, 87, 182974077),\n",
      " (324293, 463, 847164031),\n",
      " (324293, 858, 1592058106),\n",
      " (323976, 58, 64318211),\n",
      " (319526, 35, 61882137),\n",
      " (319853, 139, 220864884),\n",
      " (319639, 100, 117898040),\n",
      " (321415, 95, 154493574),\n",
      " (321831, 482, 846096735),\n",
      " (324835, 215, 346223485),\n",
      " (320840, 46, 74415542),\n",
      " (325117, 461, 787028149),\n",
      " (315357, 582, 474271871),\n",
      " (315357, 120, 90263024),\n",
      " (315512, 947, 703286863),\n",
      " (316457, 1310, 1472332465),\n",
      " (316701, 284, 408489512),\n",
      " (316114, 1293, 1312567745),\n",
      " (316114, 893, 891656605),\n",
      " (315420, 147, 111359074),\n",
      " (315840, 794, 913785809),\n",
      " (317648, 58, 48360780),\n",
      " (317182, 530, 685103194),\n",
      " (317297, 524, 829605824),\n",
      " (317683, 199, 255555243),\n",
      " (317527, 1391, 1992720836),\n",
      " (317087, 718, 952431980),\n",
      " (319579, 2200, 3454641909),\n",
      " (319579, 238, 295829669),\n",
      " (323525, 527, 912578885),\n",
      " (321988, 1187, 2087171876),\n",
      " (325170, 258, 484838032),\n",
      " (324293, 2087, 3682685735),\n",
      " (323940, 1163, 2139020729),\n",
      " (320674, 307, 170248938),\n",
      " (323778, 140, 272660658),\n",
      " (323857, 207, 379124515),\n",
      " (323940, 1219, 2239952998),\n",
      " (321305, 1290, 2038696638),\n",
      " (323525, 122, 215795461),\n",
      " (322625, 818, 1450146494),\n",
      " (321909, 354, 601078236),\n",
      " (320916, 10, 6335790),\n",
      " (323983, 79, 159794391),\n",
      " (322022, 1382, 2373710325),\n",
      " (322022, 757, 1317925848),\n",
      " (322022, 809, 1405591998),\n",
      " (321917, 186, 325919725),\n",
      " (323702, 406, 720281595),\n",
      " (322381, 327, 542098054),\n",
      " (322625, 239, 379085701),\n",
      " (322492, 48, 80566428),\n",
      " (321887, 684, 1132742251),\n",
      " (321730, 206, 375294561),\n",
      " (320933, 121, 140475077),\n",
      " (323794, 47, 88131102),\n",
      " (323526, 353, 510635749),\n",
      " (321414, 33, 27367239),\n",
      " (322356, 77, 149212248),\n",
      " (322068, 149, 201308324),\n",
      " (322079, 158, 253915549),\n",
      " (324980, 142, 200384798),\n",
      " (324201, 193, 353694954),\n",
      " (322480, 130, 137885914)]\n"
     ]
    }
   ],
   "source": [
    "fc_jakevselisa_3p1f = FileComparer(infile_jake_3p1f, infile_elisa_3p1f, control_reg=\"3p1f\", verbose=True)\n",
    "fc_jakevselisa_2p2f = FileComparer(infile_jake_2p2f, infile_elisa_2p2f, control_reg=\"2p2f\", verbose=True)\n",
    "fc_jakevselisa_all  = FileComparer(infile_jake, infile_elisa, control_reg=\"\", verbose=True)\n",
    "\n",
    "# fc_jakevselisa_3p1f.print_results(whose=\"file1\", show_n_evts=5)\n",
    "# fc_jakevselisa_3p1f.print_results(whose=\"file2\", show_n_evts=5)\n",
    "# fc_jakevselisa_2p2f.print_results(whose=\"file1\", show_n_evts=5)\n",
    "# fc_jakevselisa_2p2f.print_results(whose=\"file2\", show_n_evts=5)\n",
    "# # fc_jakevselisa_all.print_results(whose=\"all\", show_n_evts=10)\n",
    "\n",
    "# # Write the events to txt.\n",
    "# overwrite = 0\n",
    "# fc_jakevselisa_3p1f.save_events_to_txt(kind=\"file1_unique\", outtxt=outfile_jake_3p1f_unique, no_dup=True, overwrite=overwrite)\n",
    "# fc_jakevselisa_3p1f.save_events_to_txt(kind=\"file2_unique\", outtxt=outfile_elisa_3p1f_unique, no_dup=True, overwrite=overwrite)\n",
    "# fc_jakevselisa_3p1f.save_events_to_txt(kind=\"common\", outtxt=outfile_3p1f_common, no_dup=True, overwrite=overwrite)\n",
    "\n",
    "# fc_jakevselisa_2p2f.save_events_to_txt(kind=\"file1_unique\", outtxt=outfile_jake_2p2f_unique, no_dup=True, overwrite=overwrite)\n",
    "# fc_jakevselisa_2p2f.save_events_to_txt(kind=\"file2_unique\", outtxt=outfile_elisa_2p2f_unique, no_dup=True, overwrite=overwrite)\n",
    "# fc_jakevselisa_2p2f.save_events_to_txt(kind=\"common\", outtxt=outfile_2p2f_common, no_dup=True, overwrite=overwrite)"
   ]
  },
  {
   "cell_type": "code",
   "execution_count": 39,
   "metadata": {},
   "outputs": [
    {
     "output_type": "execute_result",
     "data": {
      "text/plain": [
       "120"
      ]
     },
     "metadata": {},
     "execution_count": 39
    }
   ],
   "source": [
    "len(fc_jakevselisa_all.ls_of_tup_file2) - len(fc_jakevselisa_all.ls_of_tup_file2_nodup)"
   ]
  },
  {
   "cell_type": "code",
   "execution_count": 36,
   "metadata": {},
   "outputs": [],
   "source": [
    "# Make a manual counter.\n",
    "# Print out events which appear more than once in fc_jakevselisa_all.ls_of_tup_file2.\n",
    "for f in fc_jakevselisa_all.ls_of_tup_file2:\n",
    "    ct = 0\n",
    "    if f in fc_jakevselisa_all.ls_of_tup_file2_nodup:\n",
    "        if ct == 5: break\n",
    "        print(f)\n",
    "# Identify the 2 events from 120 which didn't appear in 118.\n",
    "# Why did counter not find them?"
   ]
  },
  {
   "cell_type": "markdown",
   "metadata": {},
   "source": [
    "## LLR Group's (diff. xs) RedBkg Files\n",
    "\n",
    "Vukasin pointed me to their root files:\n",
    "\n",
    "- `/afs/cern.ch/user/v/vmilosev/public/forJake/new_ZX_LLR/AllData*`\n",
    "\n",
    "Let's have a look."
   ]
  },
  {
   "cell_type": "code",
   "execution_count": 17,
   "metadata": {},
   "outputs": [
    {
     "output_type": "stream",
     "name": "stdout",
     "text": [
      "Counter({'-2': 12331})\n"
     ]
    }
   ],
   "source": [
    "infile_llr_2018 = \"/blue/avery/rosedj1/ZplusXpython/sidequests/data/LLR_redbkg/AllData_ZX_redTree_2018.root\"\n",
    "\n",
    "f = rt.TFile(infile_llr_2018)\n",
    "t = f.Get(\"SelectedTree\")\n",
    "\n",
    "list(t.GetListOfBranches())\n",
    "\n",
    "t.Scan(\"htxs_stage1_red_cat:htxs_stage1_red_catName:htxs_stage1_red_prod_cat:htxs_stage1_red_prod_catName\")\n",
    "\n",
    "#--- Counting instances of htxs_stage1 ---#\n",
    "# htxs_stage1_red_catName_ls = [str(evt.htxs_stage1_red_catName) for evt in t if evt.htxs_stage1_red_catName == 'ZX']\n",
    "# count_ZX_str = Counter(htxs_stage1_red_catName_ls)\n",
    "htxs_stage1_red_cat_ls = [str(evt.htxs_stage1_red_cat) for evt in t if evt.htxs_stage1_red_cat == -2]\n",
    "count_ZX_cat = Counter(htxs_stage1_red_cat_ls)\n",
    "# dup_key_ls = [k for k,v in counter.items() if v > 1]\n",
    "print(count_ZX_cat)\n",
    "\n",
    "t.GetEntries()  # 12331\n",
    "\n",
    "#--- Tried to match any of Elisa's ZLL events to diff. xs group's events.\n",
    "#--- None matched.\n",
    "elisa_evtid_2p2f_tup = get_list_of_tuples(get_list_of_lines(infile_elisa_2p2f))\n",
    "n_tot_tup = len(elisa_evtid_2p2f_tup)\n",
    "start_at = 1000\n",
    "for num_tup, tup in enumerate(elisa_evtid_2p2f_tup[start_at:], start_at):\n",
    "    if (num_tup % 1000) == 0:\n",
    "        print(f\"Checking tuple #{num_tup}/{n_tot_tup}\")\n",
    "    for evt_num, evt in enumerate(t):\n",
    "        if evt.RunNumber != elisa_evtid_2p2f_tup_example[0]:\n",
    "            continue\n",
    "        if evt.LumiNumber != elisa_evtid_2p2f_tup_example[1]:\n",
    "            continue\n",
    "        if evt.EventNumber != elisa_evtid_2p2f_tup_example[2]:\n",
    "            continue\n",
    "        print(f\"Event {evt_num}, {evt.RunNumber}:{evt.LumiNumber}:{evt.EventNumber}\")\n",
    "        break"
   ]
  },
  {
   "cell_type": "markdown",
   "metadata": {},
   "source": [
    "## Conclusion\n",
    "\n",
    "These are Diff. XS Group's SR samples.\n",
    "They do not contain RedBkg info.\n",
    "\n",
    "### So What Next?\n",
    "\n",
    "Matteo gave me a CJLST 2018 Data NTuple to look at.\n",
    "\n",
    "Let's have a look."
   ]
  },
  {
   "cell_type": "code",
   "execution_count": 41,
   "metadata": {},
   "outputs": [],
   "source": [
    "from ROOT import TFile\n",
    "f = TFile(infile_matteo_data2018)\n",
    "t_matteo = f.Get(\"CRZLLTree/candTree\")\n",
    "\n",
    "def look_at_cjlst_evt(tree, run, lumi, event, which=\"first\", evt_start=0):\n",
    "    \"\"\"Print out event info (`run`:`lumi`:`event`) found in `tree`.\n",
    "    \n",
    "    Used specifically with CJLST root files.\n",
    "\n",
    "    Parameters\n",
    "    ----------\n",
    "    which : str\n",
    "        Which instance of the event you want to select.\n",
    "        Options: \"first\", anything else gives all\n",
    "    evt_start : int\n",
    "    \"\"\"\n",
    "    print(f\"Searching for event ID {run}:{lumi}:{event}\")\n",
    "    n_tot = tree.GetEntries()\n",
    "    for evt_num in range(evt_start, n_tot):\n",
    "        tree.GetEntry(evt_num)\n",
    "    # for evt_num, evt in enumerate(tree, evt_start):\n",
    "        if (evt_num % 10000) == 0:\n",
    "            print(f\"Event {evt_num}/{n_tot}\")\n",
    "        if tree.RunNumber != run:\n",
    "            continue\n",
    "        if tree.LumiNumber != lumi:\n",
    "            continue\n",
    "        if tree.EventNumber != event:\n",
    "            continue\n",
    "        print(f\"Found corresponding event number: {evt_num}\")\n",
    "        print(f\"tree.LepPt: {list(tree.LepPt)}\")\n",
    "        print(f\"tree.LepLepId: {list(tree.LepLepId)}\")\n",
    "        print(f\"tree.LepisID (tight?): {list(tree.LepisID)}\")\n",
    "        print(f\"tree.CRflag: {tree.CRflag} -> {CjlstFlag(tree.CRflag).name}\")\n",
    "        print()\n",
    "        if \"first\" in which:\n",
    "            break"
   ]
  },
  {
   "cell_type": "markdown",
   "metadata": {},
   "source": [
    "### Verify duplicate.\n"
   ]
  },
  {
   "cell_type": "code",
   "execution_count": 37,
   "metadata": {},
   "outputs": [
    {
     "output_type": "stream",
     "name": "stdout",
     "text": [
      "Number of CR3P1F entries: 4806\n",
      "Number of CR2P2F entries: 46067\n",
      "Number of CRLLss entries: 50144\n"
     ]
    }
   ],
   "source": [
    "# Count the number of 3P1F, 2P2F, and SS events in CJLST NTuples:\n",
    "for c in CjlstFlag:\n",
    "    conreg = c.name\n",
    "    n = t_matteo.GetEntries(f\"CRflag == {c}\")\n",
    "    print(f\"Number of {conreg} entries: {n}\")\n",
    "# Output:\n",
    "# Number of CR3P1F entries: 4806  (after removing duplicate -> 4805)\n",
    "# Number of CR2P2F entries: 46067 (after removing duplicate -> 46066)\n",
    "# Number of CRLLss entries: 50144\n",
    "# I believe there is one duplicate in 3P1F and 2P2F:\n",
    "# 315512 : 947 : 703286863"
   ]
  },
  {
   "cell_type": "code",
   "execution_count": null,
   "metadata": {},
   "outputs": [],
   "source": [
    "# Building CJLST event analyzer.\n",
    "dup = (315512, 947, 703286863)\n",
    "ct = 0\n",
    "dup_dict = {}\n",
    "    for evt_num, evt in enumerate(t):\n",
    "        if evt.RunNumber != :\n",
    "            continue\n",
    "        if evt.LumiNumber != :\n",
    "            continue\n",
    "        if evt.EventNumber != :\n",
    "            continue\n",
    "    ct += 1\n",
    "    dup_dict[evt_num] = (evt.RunNumber, evt.LumiNumber, evt.EventNumber, evt.Z1Mass, evt.Z2Mass, evt.ZZMass,)\n",
    "    if ct > 1:\n",
    "        break "
   ]
  },
  {
   "cell_type": "code",
   "execution_count": 3,
   "metadata": {},
   "outputs": [
    {
     "output_type": "error",
     "ename": "NameError",
     "evalue": "name 't_jake' is not defined",
     "traceback": [
      "\u001b[0;31m---------------------------------------------------------------------------\u001b[0m",
      "\u001b[0;31mNameError\u001b[0m                                 Traceback (most recent call last)",
      "\u001b[0;32m/tmp/drosenzw/ipykernel_2225/924394170.py\u001b[0m in \u001b[0;36m<module>\u001b[0;34m\u001b[0m\n\u001b[1;32m      1\u001b[0m \u001b[0minteresting_evts\u001b[0m \u001b[0;34m=\u001b[0m \u001b[0;36m0\u001b[0m\u001b[0;34m\u001b[0m\u001b[0;34m\u001b[0m\u001b[0m\n\u001b[1;32m      2\u001b[0m \u001b[0mbreak_after\u001b[0m \u001b[0;34m=\u001b[0m \u001b[0;36m1\u001b[0m\u001b[0;34m\u001b[0m\u001b[0;34m\u001b[0m\u001b[0m\n\u001b[0;32m----> 3\u001b[0;31m \u001b[0;32mfor\u001b[0m \u001b[0mevt_num\u001b[0m\u001b[0;34m,\u001b[0m \u001b[0mevt\u001b[0m \u001b[0;32min\u001b[0m \u001b[0menumerate\u001b[0m\u001b[0;34m(\u001b[0m\u001b[0mt_jake\u001b[0m\u001b[0;34m)\u001b[0m\u001b[0;34m:\u001b[0m\u001b[0;34m\u001b[0m\u001b[0;34m\u001b[0m\u001b[0m\n\u001b[0m\u001b[1;32m      4\u001b[0m     \u001b[0;32mif\u001b[0m \u001b[0minteresting_evts\u001b[0m \u001b[0;34m==\u001b[0m \u001b[0mbreak_after\u001b[0m\u001b[0;34m:\u001b[0m \u001b[0;32mbreak\u001b[0m\u001b[0;34m\u001b[0m\u001b[0;34m\u001b[0m\u001b[0m\n\u001b[1;32m      5\u001b[0m     \u001b[0;32mif\u001b[0m \u001b[0;34m(\u001b[0m\u001b[0;32mnot\u001b[0m \u001b[0mevt\u001b[0m\u001b[0;34m.\u001b[0m\u001b[0mpassedZXCRSelection\u001b[0m\u001b[0;34m)\u001b[0m \u001b[0;32mand\u001b[0m \u001b[0;34m(\u001b[0m\u001b[0;34m-\u001b[0m\u001b[0;36m1\u001b[0m \u001b[0;32mnot\u001b[0m \u001b[0;32min\u001b[0m \u001b[0mevt\u001b[0m\u001b[0;34m.\u001b[0m\u001b[0mlep_Hindex\u001b[0m\u001b[0;34m)\u001b[0m\u001b[0;34m:\u001b[0m\u001b[0;34m\u001b[0m\u001b[0;34m\u001b[0m\u001b[0m\n",
      "\u001b[0;31mNameError\u001b[0m: name 't_jake' is not defined"
     ]
    }
   ],
   "source": [
    "interesting_evts = 0\n",
    "break_after = 1\n",
    "for evt_num, evt in enumerate(t_jake):\n",
    "    if interesting_evts == break_after: break\n",
    "    if (not evt.passedZXCRSelection) and (-1 not in evt.lep_Hindex):\n",
    "        interesting_evts += 1\n",
    "        print(f\"Run:LumiSect:Event, {evt.Run}:{evt.LumiSect}:{evt.Event}\")\n",
    "        print(f\"t_jake.passedZXCRSelection: {t_jake.passedZXCRSelection}\")\n",
    "        print(f\"t_jake.lep_Hindex: {list(t_jake.lep_Hindex)}\")\n",
    "        print(f\"t_jake.lepFSR_pt: {list(t_jake.lepFSR_pt)}\")\n",
    "        print(f\"t_jake.lep_RelIso: {list(t_jake.lep_RelIso)}\")\n",
    "        print(f\"t_jake.lep_id: {list(t_jake.lep_id)}\")\n",
    "        print(f\"t_jake.lep_tightId: {list(t_jake.lep_tightId)}\")"
   ]
  },
  {
   "cell_type": "code",
   "execution_count": 42,
   "metadata": {},
   "outputs": [
    {
     "output_type": "stream",
     "name": "stdout",
     "text": [
      "Searching for event ID 315488:152:135937874\n",
      "Event 50000/101017\n",
      "Found corresponding event number: 51415\n",
      "tree.LepPt: [23.29829978942871, 39.59515380859375, 8.45237922668457, 77.30006408691406]\n",
      "tree.LepLepId: [-11, 11, -13, 13]\n",
      "tree.LepisID (tight?): [True, True, False, True]\n",
      "tree.CRflag: 8388608 -> CR3P1F\n",
      "\n",
      "Found corresponding event number: 51416\n",
      "tree.LepPt: [23.29829978942871, 39.59515380859375, 8.45237922668457, 7.023000240325928]\n",
      "tree.LepLepId: [-11, 11, -13, -13]\n",
      "tree.LepisID (tight?): [True, True, False, True]\n",
      "tree.CRflag: 2097152 -> CRLLss\n",
      "\n",
      "Event 60000/101017\n",
      "Event 70000/101017\n",
      "Event 80000/101017\n",
      "Event 90000/101017\n",
      "Event 100000/101017\n"
     ]
    }
   ],
   "source": [
    "look_at_cjlst_evt(t_matteo, 315488, 152, 135937874, which=\"all\", evt_start=50000)"
   ]
  },
  {
   "cell_type": "code",
   "execution_count": 11,
   "metadata": {},
   "outputs": [
    {
     "output_type": "execute_result",
     "data": {
      "text/plain": [
       "8388608"
      ]
     },
     "metadata": {},
     "execution_count": 11
    }
   ],
   "source": [
    "t_matteo.GetEntry(51415)\n",
    "t_matteo.CRflag"
   ]
  },
  {
   "cell_type": "code",
   "execution_count": 12,
   "metadata": {},
   "outputs": [],
   "source": [
    "evt_id_ls_matteo = [(evt.RunNumber, evt.LumiNumber, evt.EventNumber,) for evt in t_matteo]"
   ]
  },
  {
   "cell_type": "code",
   "execution_count": 14,
   "metadata": {},
   "outputs": [
    {
     "output_type": "execute_result",
     "data": {
      "text/plain": [
       "5762"
      ]
     },
     "metadata": {},
     "execution_count": 14
    }
   ],
   "source": [
    "len(evt_id_ls_matteo) - len(set(evt_id_ls_matteo))"
   ]
  },
  {
   "cell_type": "code",
   "execution_count": 20,
   "metadata": {},
   "outputs": [],
   "source": [
    "counter = Counter(evt_id_ls_matteo)\n",
    "# pprint(list(counter.values())[:5])\n",
    "dup_key_ls = [(k, ct) for k,ct in counter.items() if k == (315488, 152, 135937874,)]\n"
   ]
  },
  {
   "cell_type": "code",
   "execution_count": 22,
   "metadata": {},
   "outputs": [
    {
     "output_type": "execute_result",
     "data": {
      "text/plain": [
       "2"
      ]
     },
     "metadata": {},
     "execution_count": 22
    }
   ],
   "source": [
    "counter[(315488, 152, 135937874,)]"
   ]
  },
  {
   "cell_type": "code",
   "execution_count": null,
   "metadata": {},
   "outputs": [],
   "source": []
  }
 ]
}